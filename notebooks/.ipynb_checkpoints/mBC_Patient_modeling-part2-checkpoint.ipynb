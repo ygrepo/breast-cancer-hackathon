{
 "cells": [
  {
   "cell_type": "code",
   "execution_count": 111,
   "metadata": {},
   "outputs": [],
   "source": [
    "import numpy as np # linear algebra\n",
    "import pandas as pd # data processing, CSV file I/O (e.g. pd.read_csv)\n",
    "pd.set_option('large_repr', 'truncate')\n",
    "pd.set_option('display.float_format', lambda x: '%.3f' % x)\n",
    "import matplotlib.pyplot as plt\n",
    "import seaborn as sns\n",
    "import missingno as msno\n",
    "from pathlib import Path\n",
    "\n",
    "from sklearn.preprocessing import OneHotEncoder\n",
    "from sklearn.model_selection import train_test_split\n",
    "from sklearn.ensemble import RandomForestClassifier\n",
    "from sklearn.metrics import f1_score, roc_curve, roc_auc_score,confusion_matrix\n",
    "from sklearn.metrics import accuracy_score\n",
    "from sklearn.linear_model import LogisticRegression\n",
    "\n",
    "from typing import Tuple\n",
    "\n",
    "import warnings\n",
    "warnings.filterwarnings('ignore')\n",
    "%matplotlib inline"
   ]
  },
  {
   "cell_type": "code",
   "execution_count": 112,
   "metadata": {},
   "outputs": [],
   "source": [
    "DATA_PATH = Path(\"../data/\")\n",
    "DOCUMENTATION_PATH = Path(\"../documentation\")\n",
    "RANDOM_STATE_PARAMETER = 42\n",
    "TEST_SIZE = .25"
   ]
  },
  {
   "cell_type": "code",
   "execution_count": 113,
   "metadata": {},
   "outputs": [],
   "source": [
    "data = pd.read_csv(DATA_PATH / \"dataset.csv\")"
   ]
  },
  {
   "cell_type": "code",
   "execution_count": 114,
   "metadata": {},
   "outputs": [
    {
     "data": {
      "text/html": [
       "<div>\n",
       "<style scoped>\n",
       "    .dataframe tbody tr th:only-of-type {\n",
       "        vertical-align: middle;\n",
       "    }\n",
       "\n",
       "    .dataframe tbody tr th {\n",
       "        vertical-align: top;\n",
       "    }\n",
       "\n",
       "    .dataframe thead th {\n",
       "        text-align: right;\n",
       "    }\n",
       "</style>\n",
       "<table border=\"1\" class=\"dataframe\">\n",
       "  <thead>\n",
       "    <tr style=\"text-align: right;\">\n",
       "      <th></th>\n",
       "      <th>PATIENT_ID</th>\n",
       "      <th>CLAIM_ID</th>\n",
       "      <th>CLAIM_TYP_CD</th>\n",
       "      <th>SERVICE_DATE</th>\n",
       "      <th>MONTH_ID</th>\n",
       "      <th>YEAR</th>\n",
       "      <th>MONTH</th>\n",
       "      <th>DAYS</th>\n",
       "      <th>DIAGNOSIS_CODE</th>\n",
       "      <th>DIAG_VERS_TYP_ID</th>\n",
       "      <th>...</th>\n",
       "      <th>RESTATE_FLAG</th>\n",
       "      <th>INDICATION_CD</th>\n",
       "      <th>VERSION</th>\n",
       "      <th>SUB_INDICATION_CD</th>\n",
       "      <th>BC_DIAG_DATE</th>\n",
       "      <th>BC_PATIENT</th>\n",
       "      <th>SN_DIAG_DATE</th>\n",
       "      <th>SN_PATIENT</th>\n",
       "      <th>DAY_DIFF</th>\n",
       "      <th>mBC_PATIENT</th>\n",
       "    </tr>\n",
       "  </thead>\n",
       "  <tbody>\n",
       "    <tr>\n",
       "      <th>0</th>\n",
       "      <td>31819076</td>\n",
       "      <td>121185697488</td>\n",
       "      <td>I</td>\n",
       "      <td>2013-09-01</td>\n",
       "      <td>201309</td>\n",
       "      <td>2013</td>\n",
       "      <td>9</td>\n",
       "      <td>1</td>\n",
       "      <td>198.5</td>\n",
       "      <td>1</td>\n",
       "      <td>...</td>\n",
       "      <td>0</td>\n",
       "      <td>SN</td>\n",
       "      <td>ICD_9</td>\n",
       "      <td>META_STATIC</td>\n",
       "      <td>2013-09-01</td>\n",
       "      <td>True</td>\n",
       "      <td>2013-09-01</td>\n",
       "      <td>True</td>\n",
       "      <td>0.000</td>\n",
       "      <td>True</td>\n",
       "    </tr>\n",
       "    <tr>\n",
       "      <th>1</th>\n",
       "      <td>31819076</td>\n",
       "      <td>121185697488</td>\n",
       "      <td>I</td>\n",
       "      <td>2013-09-01</td>\n",
       "      <td>201309</td>\n",
       "      <td>2013</td>\n",
       "      <td>9</td>\n",
       "      <td>1</td>\n",
       "      <td>196.9</td>\n",
       "      <td>1</td>\n",
       "      <td>...</td>\n",
       "      <td>0</td>\n",
       "      <td>SN</td>\n",
       "      <td>ICD_9</td>\n",
       "      <td>META_STATIC</td>\n",
       "      <td>2013-09-01</td>\n",
       "      <td>True</td>\n",
       "      <td>2013-09-01</td>\n",
       "      <td>True</td>\n",
       "      <td>0.000</td>\n",
       "      <td>True</td>\n",
       "    </tr>\n",
       "    <tr>\n",
       "      <th>2</th>\n",
       "      <td>1184666769</td>\n",
       "      <td>10655088339800359531</td>\n",
       "      <td>I</td>\n",
       "      <td>2013-09-13</td>\n",
       "      <td>201309</td>\n",
       "      <td>2013</td>\n",
       "      <td>9</td>\n",
       "      <td>13</td>\n",
       "      <td>196.3</td>\n",
       "      <td>1</td>\n",
       "      <td>...</td>\n",
       "      <td>0</td>\n",
       "      <td>SN</td>\n",
       "      <td>ICD_9</td>\n",
       "      <td>META_STATIC</td>\n",
       "      <td>2013-09-03</td>\n",
       "      <td>True</td>\n",
       "      <td>2013-09-03</td>\n",
       "      <td>True</td>\n",
       "      <td>0.000</td>\n",
       "      <td>True</td>\n",
       "    </tr>\n",
       "    <tr>\n",
       "      <th>3</th>\n",
       "      <td>275849394</td>\n",
       "      <td>115312066498</td>\n",
       "      <td>P</td>\n",
       "      <td>2013-09-03</td>\n",
       "      <td>201309</td>\n",
       "      <td>2013</td>\n",
       "      <td>9</td>\n",
       "      <td>3</td>\n",
       "      <td>198.5</td>\n",
       "      <td>1</td>\n",
       "      <td>...</td>\n",
       "      <td>0</td>\n",
       "      <td>SN</td>\n",
       "      <td>ICD_9</td>\n",
       "      <td>META_STATIC</td>\n",
       "      <td>2013-09-03</td>\n",
       "      <td>True</td>\n",
       "      <td>2013-09-03</td>\n",
       "      <td>True</td>\n",
       "      <td>0.000</td>\n",
       "      <td>True</td>\n",
       "    </tr>\n",
       "    <tr>\n",
       "      <th>4</th>\n",
       "      <td>275849394</td>\n",
       "      <td>115312066498</td>\n",
       "      <td>P</td>\n",
       "      <td>2013-09-03</td>\n",
       "      <td>201309</td>\n",
       "      <td>2013</td>\n",
       "      <td>9</td>\n",
       "      <td>3</td>\n",
       "      <td>197.6</td>\n",
       "      <td>1</td>\n",
       "      <td>...</td>\n",
       "      <td>0</td>\n",
       "      <td>SN</td>\n",
       "      <td>ICD_9</td>\n",
       "      <td>META_STATIC</td>\n",
       "      <td>2013-09-03</td>\n",
       "      <td>True</td>\n",
       "      <td>2013-09-03</td>\n",
       "      <td>True</td>\n",
       "      <td>0.000</td>\n",
       "      <td>True</td>\n",
       "    </tr>\n",
       "  </tbody>\n",
       "</table>\n",
       "<p>5 rows × 22 columns</p>\n",
       "</div>"
      ],
      "text/plain": [
       "   PATIENT_ID              CLAIM_ID CLAIM_TYP_CD SERVICE_DATE  MONTH_ID  YEAR  \\\n",
       "0    31819076          121185697488            I   2013-09-01    201309  2013   \n",
       "1    31819076          121185697488            I   2013-09-01    201309  2013   \n",
       "2  1184666769  10655088339800359531            I   2013-09-13    201309  2013   \n",
       "3   275849394          115312066498            P   2013-09-03    201309  2013   \n",
       "4   275849394          115312066498            P   2013-09-03    201309  2013   \n",
       "\n",
       "   MONTH  DAYS DIAGNOSIS_CODE  DIAG_VERS_TYP_ID  ...  RESTATE_FLAG  \\\n",
       "0      9     1          198.5                 1  ...             0   \n",
       "1      9     1          196.9                 1  ...             0   \n",
       "2      9    13          196.3                 1  ...             0   \n",
       "3      9     3          198.5                 1  ...             0   \n",
       "4      9     3          197.6                 1  ...             0   \n",
       "\n",
       "   INDICATION_CD  VERSION SUB_INDICATION_CD BC_DIAG_DATE BC_PATIENT  \\\n",
       "0             SN    ICD_9       META_STATIC   2013-09-01       True   \n",
       "1             SN    ICD_9       META_STATIC   2013-09-01       True   \n",
       "2             SN    ICD_9       META_STATIC   2013-09-03       True   \n",
       "3             SN    ICD_9       META_STATIC   2013-09-03       True   \n",
       "4             SN    ICD_9       META_STATIC   2013-09-03       True   \n",
       "\n",
       "  SN_DIAG_DATE  SN_PATIENT DAY_DIFF  mBC_PATIENT  \n",
       "0   2013-09-01        True    0.000         True  \n",
       "1   2013-09-01        True    0.000         True  \n",
       "2   2013-09-03        True    0.000         True  \n",
       "3   2013-09-03        True    0.000         True  \n",
       "4   2013-09-03        True    0.000         True  \n",
       "\n",
       "[5 rows x 22 columns]"
      ]
     },
     "execution_count": 114,
     "metadata": {},
     "output_type": "execute_result"
    }
   ],
   "source": [
    "data.head()"
   ]
  },
  {
   "cell_type": "code",
   "execution_count": 115,
   "metadata": {},
   "outputs": [
    {
     "data": {
      "text/plain": [
       "Index(['PATIENT_ID', 'CLAIM_ID', 'CLAIM_TYP_CD', 'SERVICE_DATE', 'MONTH_ID',\n",
       "       'YEAR', 'MONTH', 'DAYS', 'DIAGNOSIS_CODE', 'DIAG_VERS_TYP_ID',\n",
       "       'DIAG_CD_POSN_NBR', 'PROVIDER_ID', 'RESTATE_FLAG', 'INDICATION_CD',\n",
       "       'VERSION', 'SUB_INDICATION_CD', 'BC_DIAG_DATE', 'BC_PATIENT',\n",
       "       'SN_DIAG_DATE', 'SN_PATIENT', 'DAY_DIFF', 'mBC_PATIENT'],\n",
       "      dtype='object')"
      ]
     },
     "execution_count": 115,
     "metadata": {},
     "output_type": "execute_result"
    }
   ],
   "source": [
    "data.columns"
   ]
  },
  {
   "cell_type": "code",
   "execution_count": 116,
   "metadata": {},
   "outputs": [
    {
     "data": {
      "text/plain": [
       "PATIENT_ID             int64\n",
       "CLAIM_ID              uint64\n",
       "CLAIM_TYP_CD          object\n",
       "SERVICE_DATE          object\n",
       "MONTH_ID               int64\n",
       "YEAR                   int64\n",
       "MONTH                  int64\n",
       "DAYS                   int64\n",
       "DIAGNOSIS_CODE        object\n",
       "DIAG_VERS_TYP_ID       int64\n",
       "DIAG_CD_POSN_NBR       int64\n",
       "PROVIDER_ID            int64\n",
       "RESTATE_FLAG           int64\n",
       "INDICATION_CD         object\n",
       "VERSION               object\n",
       "SUB_INDICATION_CD     object\n",
       "BC_DIAG_DATE          object\n",
       "BC_PATIENT              bool\n",
       "SN_DIAG_DATE          object\n",
       "SN_PATIENT              bool\n",
       "DAY_DIFF             float64\n",
       "mBC_PATIENT             bool\n",
       "dtype: object"
      ]
     },
     "execution_count": 116,
     "metadata": {},
     "output_type": "execute_result"
    }
   ],
   "source": [
    "data.dtypes"
   ]
  },
  {
   "cell_type": "code",
   "execution_count": 117,
   "metadata": {},
   "outputs": [
    {
     "data": {
      "text/plain": [
       "1471"
      ]
     },
     "execution_count": 117,
     "metadata": {},
     "output_type": "execute_result"
    }
   ],
   "source": [
    "len(data.DIAGNOSIS_CODE.unique())"
   ]
  },
  {
   "cell_type": "code",
   "execution_count": 118,
   "metadata": {},
   "outputs": [
    {
     "data": {
      "text/plain": [
       "array(['SN', 'BC', nan], dtype=object)"
      ]
     },
     "execution_count": 118,
     "metadata": {},
     "output_type": "execute_result"
    }
   ],
   "source": [
    "data.INDICATION_CD.unique()"
   ]
  },
  {
   "cell_type": "code",
   "execution_count": 119,
   "metadata": {},
   "outputs": [
    {
     "data": {
      "text/plain": [
       "array(['META_STATIC', nan], dtype=object)"
      ]
     },
     "execution_count": 119,
     "metadata": {},
     "output_type": "execute_result"
    }
   ],
   "source": [
    "data.SUB_INDICATION_CD.unique()"
   ]
  },
  {
   "cell_type": "code",
   "execution_count": 120,
   "metadata": {},
   "outputs": [],
   "source": [
    "unique_patients = data.drop_duplicates('PATIENT_ID')\n",
    "non_mbc_patients = unique_patients[~unique_patients[\"mBC_PATIENT\"]]"
   ]
  },
  {
   "cell_type": "code",
   "execution_count": 121,
   "metadata": {},
   "outputs": [],
   "source": [
    "# data[data.isnull().any(axis=1)]"
   ]
  },
  {
   "cell_type": "code",
   "execution_count": 122,
   "metadata": {},
   "outputs": [],
   "source": [
    "mbc_patients = unique_patients[unique_patients[\"mBC_PATIENT\"]]"
   ]
  },
  {
   "cell_type": "code",
   "execution_count": 155,
   "metadata": {},
   "outputs": [
    {
     "data": {
      "image/png": "[encoded data removed]",
      "text/plain": [
       "<Figure size 1080x288 with 1 Axes>"
      ]
     },
     "metadata": {
      "needs_background": "light"
     },
     "output_type": "display_data"
    }
   ],
   "source": [
    "plt.figure(figsize=(15,4))\n",
    "plt.ticklabel_format(style='plain', axis='y')\n",
    "#sns.countplot(unique_patients['mBC_PATIENT'])\n",
    "(unique_patients['mBC_PATIENT'].value_counts()/ len(unique_patients) * 100).plot.bar();\n",
    "#plt.title(\"Histogram of scores for the not applicable scores\", fontsize=15)\n",
    "plt.ylabel('Percentage', fontsize = 12)\n",
    "plt.xticks([0,1], [\"Non mBC_PATIENT\", \"mBC_PATIENT\"], rotation=45)\n",
    "plt.show()\n",
    "plt.close()"
   ]
  },
  {
   "cell_type": "code",
   "execution_count": 124,
   "metadata": {},
   "outputs": [
    {
     "name": "stdout",
     "output_type": "stream",
     "text": [
      "Proportion of mBC patients:75.7469244288225%\n"
     ]
    }
   ],
   "source": [
    "prop_mbc_patients = len(mbc_patients)/len(non_mbc_patients)\n",
    "print(f\"Proportion of mBC patients:{prop_mbc_patients * 100.0}%\")"
   ]
  },
  {
   "cell_type": "markdown",
   "metadata": {},
   "source": [
    "# APLD patients"
   ]
  },
  {
   "cell_type": "code",
   "execution_count": 125,
   "metadata": {},
   "outputs": [],
   "source": [
    "apld_patients = data[data[\"DIAGNOSIS_CODE\"] == \"C79.81\"]"
   ]
  },
  {
   "cell_type": "code",
   "execution_count": 126,
   "metadata": {},
   "outputs": [
    {
     "data": {
      "text/html": [
       "<div>\n",
       "<style scoped>\n",
       "    .dataframe tbody tr th:only-of-type {\n",
       "        vertical-align: middle;\n",
       "    }\n",
       "\n",
       "    .dataframe tbody tr th {\n",
       "        vertical-align: top;\n",
       "    }\n",
       "\n",
       "    .dataframe thead th {\n",
       "        text-align: right;\n",
       "    }\n",
       "</style>\n",
       "<table border=\"1\" class=\"dataframe\">\n",
       "  <thead>\n",
       "    <tr style=\"text-align: right;\">\n",
       "      <th></th>\n",
       "      <th>PATIENT_ID</th>\n",
       "      <th>CLAIM_ID</th>\n",
       "      <th>CLAIM_TYP_CD</th>\n",
       "      <th>SERVICE_DATE</th>\n",
       "      <th>MONTH_ID</th>\n",
       "      <th>YEAR</th>\n",
       "      <th>MONTH</th>\n",
       "      <th>DAYS</th>\n",
       "      <th>DIAGNOSIS_CODE</th>\n",
       "      <th>DIAG_VERS_TYP_ID</th>\n",
       "      <th>...</th>\n",
       "      <th>RESTATE_FLAG</th>\n",
       "      <th>INDICATION_CD</th>\n",
       "      <th>VERSION</th>\n",
       "      <th>SUB_INDICATION_CD</th>\n",
       "      <th>BC_DIAG_DATE</th>\n",
       "      <th>BC_PATIENT</th>\n",
       "      <th>SN_DIAG_DATE</th>\n",
       "      <th>SN_PATIENT</th>\n",
       "      <th>DAY_DIFF</th>\n",
       "      <th>mBC_PATIENT</th>\n",
       "    </tr>\n",
       "  </thead>\n",
       "  <tbody>\n",
       "    <tr>\n",
       "      <th>56065</th>\n",
       "      <td>999593822</td>\n",
       "      <td>149068883621</td>\n",
       "      <td>P</td>\n",
       "      <td>2016-05-02</td>\n",
       "      <td>201605</td>\n",
       "      <td>2016</td>\n",
       "      <td>5</td>\n",
       "      <td>2</td>\n",
       "      <td>C79.81</td>\n",
       "      <td>2</td>\n",
       "      <td>...</td>\n",
       "      <td>0</td>\n",
       "      <td>NaN</td>\n",
       "      <td>NaN</td>\n",
       "      <td>NaN</td>\n",
       "      <td>2013-10-16</td>\n",
       "      <td>True</td>\n",
       "      <td>2013-11-25</td>\n",
       "      <td>True</td>\n",
       "      <td>40.000</td>\n",
       "      <td>True</td>\n",
       "    </tr>\n",
       "    <tr>\n",
       "      <th>56072</th>\n",
       "      <td>999593822</td>\n",
       "      <td>136796440372</td>\n",
       "      <td>P</td>\n",
       "      <td>2016-03-21</td>\n",
       "      <td>201603</td>\n",
       "      <td>2016</td>\n",
       "      <td>3</td>\n",
       "      <td>21</td>\n",
       "      <td>C79.81</td>\n",
       "      <td>2</td>\n",
       "      <td>...</td>\n",
       "      <td>0</td>\n",
       "      <td>NaN</td>\n",
       "      <td>NaN</td>\n",
       "      <td>NaN</td>\n",
       "      <td>2013-10-16</td>\n",
       "      <td>True</td>\n",
       "      <td>2013-11-25</td>\n",
       "      <td>True</td>\n",
       "      <td>40.000</td>\n",
       "      <td>True</td>\n",
       "    </tr>\n",
       "    <tr>\n",
       "      <th>56079</th>\n",
       "      <td>999593822</td>\n",
       "      <td>131271401765</td>\n",
       "      <td>P</td>\n",
       "      <td>2016-02-08</td>\n",
       "      <td>201602</td>\n",
       "      <td>2016</td>\n",
       "      <td>2</td>\n",
       "      <td>8</td>\n",
       "      <td>C79.81</td>\n",
       "      <td>2</td>\n",
       "      <td>...</td>\n",
       "      <td>0</td>\n",
       "      <td>NaN</td>\n",
       "      <td>NaN</td>\n",
       "      <td>NaN</td>\n",
       "      <td>2013-10-16</td>\n",
       "      <td>True</td>\n",
       "      <td>2013-11-25</td>\n",
       "      <td>True</td>\n",
       "      <td>40.000</td>\n",
       "      <td>True</td>\n",
       "    </tr>\n",
       "    <tr>\n",
       "      <th>56135</th>\n",
       "      <td>999593822</td>\n",
       "      <td>127973984874</td>\n",
       "      <td>P</td>\n",
       "      <td>2015-12-28</td>\n",
       "      <td>201512</td>\n",
       "      <td>2015</td>\n",
       "      <td>12</td>\n",
       "      <td>28</td>\n",
       "      <td>C79.81</td>\n",
       "      <td>2</td>\n",
       "      <td>...</td>\n",
       "      <td>0</td>\n",
       "      <td>NaN</td>\n",
       "      <td>NaN</td>\n",
       "      <td>NaN</td>\n",
       "      <td>2013-10-16</td>\n",
       "      <td>True</td>\n",
       "      <td>2013-11-25</td>\n",
       "      <td>True</td>\n",
       "      <td>40.000</td>\n",
       "      <td>True</td>\n",
       "    </tr>\n",
       "    <tr>\n",
       "      <th>56143</th>\n",
       "      <td>999593822</td>\n",
       "      <td>127144463143</td>\n",
       "      <td>P</td>\n",
       "      <td>2015-11-18</td>\n",
       "      <td>201511</td>\n",
       "      <td>2015</td>\n",
       "      <td>11</td>\n",
       "      <td>18</td>\n",
       "      <td>C79.81</td>\n",
       "      <td>2</td>\n",
       "      <td>...</td>\n",
       "      <td>0</td>\n",
       "      <td>NaN</td>\n",
       "      <td>NaN</td>\n",
       "      <td>NaN</td>\n",
       "      <td>2013-10-16</td>\n",
       "      <td>True</td>\n",
       "      <td>2013-11-25</td>\n",
       "      <td>True</td>\n",
       "      <td>40.000</td>\n",
       "      <td>True</td>\n",
       "    </tr>\n",
       "  </tbody>\n",
       "</table>\n",
       "<p>5 rows × 22 columns</p>\n",
       "</div>"
      ],
      "text/plain": [
       "       PATIENT_ID      CLAIM_ID CLAIM_TYP_CD SERVICE_DATE  MONTH_ID  YEAR  \\\n",
       "56065   999593822  149068883621            P   2016-05-02    201605  2016   \n",
       "56072   999593822  136796440372            P   2016-03-21    201603  2016   \n",
       "56079   999593822  131271401765            P   2016-02-08    201602  2016   \n",
       "56135   999593822  127973984874            P   2015-12-28    201512  2015   \n",
       "56143   999593822  127144463143            P   2015-11-18    201511  2015   \n",
       "\n",
       "       MONTH  DAYS DIAGNOSIS_CODE  DIAG_VERS_TYP_ID  ...  RESTATE_FLAG  \\\n",
       "56065      5     2         C79.81                 2  ...             0   \n",
       "56072      3    21         C79.81                 2  ...             0   \n",
       "56079      2     8         C79.81                 2  ...             0   \n",
       "56135     12    28         C79.81                 2  ...             0   \n",
       "56143     11    18         C79.81                 2  ...             0   \n",
       "\n",
       "       INDICATION_CD  VERSION SUB_INDICATION_CD BC_DIAG_DATE BC_PATIENT  \\\n",
       "56065            NaN      NaN               NaN   2013-10-16       True   \n",
       "56072            NaN      NaN               NaN   2013-10-16       True   \n",
       "56079            NaN      NaN               NaN   2013-10-16       True   \n",
       "56135            NaN      NaN               NaN   2013-10-16       True   \n",
       "56143            NaN      NaN               NaN   2013-10-16       True   \n",
       "\n",
       "      SN_DIAG_DATE  SN_PATIENT DAY_DIFF  mBC_PATIENT  \n",
       "56065   2013-11-25        True   40.000         True  \n",
       "56072   2013-11-25        True   40.000         True  \n",
       "56079   2013-11-25        True   40.000         True  \n",
       "56135   2013-11-25        True   40.000         True  \n",
       "56143   2013-11-25        True   40.000         True  \n",
       "\n",
       "[5 rows x 22 columns]"
      ]
     },
     "execution_count": 126,
     "metadata": {},
     "output_type": "execute_result"
    }
   ],
   "source": [
    "apld_patients.head()"
   ]
  },
  {
   "cell_type": "code",
   "execution_count": 127,
   "metadata": {},
   "outputs": [],
   "source": [
    "data = apld_patients"
   ]
  },
  {
   "cell_type": "markdown",
   "metadata": {},
   "source": [
    "# One hot encoding"
   ]
  },
  {
   "cell_type": "code",
   "execution_count": 128,
   "metadata": {},
   "outputs": [
    {
     "data": {
      "text/plain": [
       "Index(['PATIENT_ID', 'CLAIM_ID', 'CLAIM_TYP_CD', 'SERVICE_DATE', 'MONTH_ID',\n",
       "       'YEAR', 'MONTH', 'DAYS', 'DIAGNOSIS_CODE', 'DIAG_VERS_TYP_ID',\n",
       "       'DIAG_CD_POSN_NBR', 'PROVIDER_ID', 'RESTATE_FLAG', 'INDICATION_CD',\n",
       "       'VERSION', 'SUB_INDICATION_CD', 'BC_DIAG_DATE', 'BC_PATIENT',\n",
       "       'SN_DIAG_DATE', 'SN_PATIENT', 'DAY_DIFF', 'mBC_PATIENT'],\n",
       "      dtype='object')"
      ]
     },
     "execution_count": 128,
     "metadata": {},
     "output_type": "execute_result"
    }
   ],
   "source": [
    "data.columns"
   ]
  },
  {
   "cell_type": "code",
   "execution_count": 129,
   "metadata": {},
   "outputs": [
    {
     "name": "stdout",
     "output_type": "stream",
     "text": [
      "min.days:-1577.0, max.days:2218.0\n"
     ]
    }
   ],
   "source": [
    "days = data.DAY_DIFF.unique()\n",
    "days = days[~np.isnan(days)]\n",
    "days = sorted(days.tolist())\n",
    "print(f\"min.days:{min(days)}, max.days:{max(days)}\")\n",
    "filling_value_days = min(days) -1\n",
    "data['DAY_DIFF'].fillna(filling_value_days, inplace=True)\n",
    "data.DAY_DIFF = data.DAY_DIFF.astype(int)"
   ]
  },
  {
   "cell_type": "code",
   "execution_count": 130,
   "metadata": {},
   "outputs": [],
   "source": [
    "data[\"META_STATIC\"] = False\n",
    "data[\"META_STATIC\"][data[\"SUB_INDICATION_CD\"] == 'META_STATIC'] = True"
   ]
  },
  {
   "cell_type": "code",
   "execution_count": 131,
   "metadata": {},
   "outputs": [
    {
     "data": {
      "text/plain": [
       "Index(['PATIENT_ID', 'CLAIM_ID', 'CLAIM_TYP_CD', 'SERVICE_DATE', 'MONTH_ID',\n",
       "       'YEAR', 'MONTH', 'DAYS', 'DIAGNOSIS_CODE', 'DIAG_VERS_TYP_ID',\n",
       "       'DIAG_CD_POSN_NBR', 'PROVIDER_ID', 'RESTATE_FLAG', 'INDICATION_CD',\n",
       "       'VERSION', 'SUB_INDICATION_CD', 'BC_DIAG_DATE', 'BC_PATIENT',\n",
       "       'SN_DIAG_DATE', 'SN_PATIENT', 'DAY_DIFF', 'mBC_PATIENT', 'META_STATIC'],\n",
       "      dtype='object')"
      ]
     },
     "execution_count": 131,
     "metadata": {},
     "output_type": "execute_result"
    }
   ],
   "source": [
    "data.columns"
   ]
  },
  {
   "cell_type": "code",
   "execution_count": 132,
   "metadata": {},
   "outputs": [
    {
     "data": {
      "text/html": [
       "<div>\n",
       "<style scoped>\n",
       "    .dataframe tbody tr th:only-of-type {\n",
       "        vertical-align: middle;\n",
       "    }\n",
       "\n",
       "    .dataframe tbody tr th {\n",
       "        vertical-align: top;\n",
       "    }\n",
       "\n",
       "    .dataframe thead th {\n",
       "        text-align: right;\n",
       "    }\n",
       "</style>\n",
       "<table border=\"1\" class=\"dataframe\">\n",
       "  <thead>\n",
       "    <tr style=\"text-align: right;\">\n",
       "      <th></th>\n",
       "      <th>PATIENT_ID</th>\n",
       "      <th>CLAIM_ID</th>\n",
       "      <th>CLAIM_TYP_CD</th>\n",
       "      <th>SERVICE_DATE</th>\n",
       "      <th>MONTH_ID</th>\n",
       "      <th>YEAR</th>\n",
       "      <th>MONTH</th>\n",
       "      <th>DAYS</th>\n",
       "      <th>DIAGNOSIS_CODE</th>\n",
       "      <th>DIAG_VERS_TYP_ID</th>\n",
       "      <th>...</th>\n",
       "      <th>INDICATION_CD</th>\n",
       "      <th>VERSION</th>\n",
       "      <th>SUB_INDICATION_CD</th>\n",
       "      <th>BC_DIAG_DATE</th>\n",
       "      <th>BC_PATIENT</th>\n",
       "      <th>SN_DIAG_DATE</th>\n",
       "      <th>SN_PATIENT</th>\n",
       "      <th>DAY_DIFF</th>\n",
       "      <th>mBC_PATIENT</th>\n",
       "      <th>META_STATIC</th>\n",
       "    </tr>\n",
       "  </thead>\n",
       "  <tbody>\n",
       "    <tr>\n",
       "      <th>56065</th>\n",
       "      <td>999593822</td>\n",
       "      <td>149068883621</td>\n",
       "      <td>P</td>\n",
       "      <td>2016-05-02</td>\n",
       "      <td>201605</td>\n",
       "      <td>2016</td>\n",
       "      <td>5</td>\n",
       "      <td>2</td>\n",
       "      <td>C79.81</td>\n",
       "      <td>2</td>\n",
       "      <td>...</td>\n",
       "      <td>NaN</td>\n",
       "      <td>NaN</td>\n",
       "      <td>NaN</td>\n",
       "      <td>2013-10-16</td>\n",
       "      <td>True</td>\n",
       "      <td>2013-11-25</td>\n",
       "      <td>True</td>\n",
       "      <td>40</td>\n",
       "      <td>True</td>\n",
       "      <td>False</td>\n",
       "    </tr>\n",
       "    <tr>\n",
       "      <th>56072</th>\n",
       "      <td>999593822</td>\n",
       "      <td>136796440372</td>\n",
       "      <td>P</td>\n",
       "      <td>2016-03-21</td>\n",
       "      <td>201603</td>\n",
       "      <td>2016</td>\n",
       "      <td>3</td>\n",
       "      <td>21</td>\n",
       "      <td>C79.81</td>\n",
       "      <td>2</td>\n",
       "      <td>...</td>\n",
       "      <td>NaN</td>\n",
       "      <td>NaN</td>\n",
       "      <td>NaN</td>\n",
       "      <td>2013-10-16</td>\n",
       "      <td>True</td>\n",
       "      <td>2013-11-25</td>\n",
       "      <td>True</td>\n",
       "      <td>40</td>\n",
       "      <td>True</td>\n",
       "      <td>False</td>\n",
       "    </tr>\n",
       "    <tr>\n",
       "      <th>56079</th>\n",
       "      <td>999593822</td>\n",
       "      <td>131271401765</td>\n",
       "      <td>P</td>\n",
       "      <td>2016-02-08</td>\n",
       "      <td>201602</td>\n",
       "      <td>2016</td>\n",
       "      <td>2</td>\n",
       "      <td>8</td>\n",
       "      <td>C79.81</td>\n",
       "      <td>2</td>\n",
       "      <td>...</td>\n",
       "      <td>NaN</td>\n",
       "      <td>NaN</td>\n",
       "      <td>NaN</td>\n",
       "      <td>2013-10-16</td>\n",
       "      <td>True</td>\n",
       "      <td>2013-11-25</td>\n",
       "      <td>True</td>\n",
       "      <td>40</td>\n",
       "      <td>True</td>\n",
       "      <td>False</td>\n",
       "    </tr>\n",
       "    <tr>\n",
       "      <th>56135</th>\n",
       "      <td>999593822</td>\n",
       "      <td>127973984874</td>\n",
       "      <td>P</td>\n",
       "      <td>2015-12-28</td>\n",
       "      <td>201512</td>\n",
       "      <td>2015</td>\n",
       "      <td>12</td>\n",
       "      <td>28</td>\n",
       "      <td>C79.81</td>\n",
       "      <td>2</td>\n",
       "      <td>...</td>\n",
       "      <td>NaN</td>\n",
       "      <td>NaN</td>\n",
       "      <td>NaN</td>\n",
       "      <td>2013-10-16</td>\n",
       "      <td>True</td>\n",
       "      <td>2013-11-25</td>\n",
       "      <td>True</td>\n",
       "      <td>40</td>\n",
       "      <td>True</td>\n",
       "      <td>False</td>\n",
       "    </tr>\n",
       "    <tr>\n",
       "      <th>56143</th>\n",
       "      <td>999593822</td>\n",
       "      <td>127144463143</td>\n",
       "      <td>P</td>\n",
       "      <td>2015-11-18</td>\n",
       "      <td>201511</td>\n",
       "      <td>2015</td>\n",
       "      <td>11</td>\n",
       "      <td>18</td>\n",
       "      <td>C79.81</td>\n",
       "      <td>2</td>\n",
       "      <td>...</td>\n",
       "      <td>NaN</td>\n",
       "      <td>NaN</td>\n",
       "      <td>NaN</td>\n",
       "      <td>2013-10-16</td>\n",
       "      <td>True</td>\n",
       "      <td>2013-11-25</td>\n",
       "      <td>True</td>\n",
       "      <td>40</td>\n",
       "      <td>True</td>\n",
       "      <td>False</td>\n",
       "    </tr>\n",
       "  </tbody>\n",
       "</table>\n",
       "<p>5 rows × 23 columns</p>\n",
       "</div>"
      ],
      "text/plain": [
       "       PATIENT_ID      CLAIM_ID CLAIM_TYP_CD SERVICE_DATE  MONTH_ID  YEAR  \\\n",
       "56065   999593822  149068883621            P   2016-05-02    201605  2016   \n",
       "56072   999593822  136796440372            P   2016-03-21    201603  2016   \n",
       "56079   999593822  131271401765            P   2016-02-08    201602  2016   \n",
       "56135   999593822  127973984874            P   2015-12-28    201512  2015   \n",
       "56143   999593822  127144463143            P   2015-11-18    201511  2015   \n",
       "\n",
       "       MONTH  DAYS DIAGNOSIS_CODE  DIAG_VERS_TYP_ID  ...  INDICATION_CD  \\\n",
       "56065      5     2         C79.81                 2  ...            NaN   \n",
       "56072      3    21         C79.81                 2  ...            NaN   \n",
       "56079      2     8         C79.81                 2  ...            NaN   \n",
       "56135     12    28         C79.81                 2  ...            NaN   \n",
       "56143     11    18         C79.81                 2  ...            NaN   \n",
       "\n",
       "       VERSION  SUB_INDICATION_CD BC_DIAG_DATE BC_PATIENT SN_DIAG_DATE  \\\n",
       "56065      NaN                NaN   2013-10-16       True   2013-11-25   \n",
       "56072      NaN                NaN   2013-10-16       True   2013-11-25   \n",
       "56079      NaN                NaN   2013-10-16       True   2013-11-25   \n",
       "56135      NaN                NaN   2013-10-16       True   2013-11-25   \n",
       "56143      NaN                NaN   2013-10-16       True   2013-11-25   \n",
       "\n",
       "      SN_PATIENT  DAY_DIFF mBC_PATIENT  META_STATIC  \n",
       "56065       True        40        True        False  \n",
       "56072       True        40        True        False  \n",
       "56079       True        40        True        False  \n",
       "56135       True        40        True        False  \n",
       "56143       True        40        True        False  \n",
       "\n",
       "[5 rows x 23 columns]"
      ]
     },
     "execution_count": 132,
     "metadata": {},
     "output_type": "execute_result"
    }
   ],
   "source": [
    "data.head()"
   ]
  },
  {
   "cell_type": "code",
   "execution_count": 133,
   "metadata": {},
   "outputs": [
    {
     "data": {
      "text/html": [
       "<div>\n",
       "<style scoped>\n",
       "    .dataframe tbody tr th:only-of-type {\n",
       "        vertical-align: middle;\n",
       "    }\n",
       "\n",
       "    .dataframe tbody tr th {\n",
       "        vertical-align: top;\n",
       "    }\n",
       "\n",
       "    .dataframe thead th {\n",
       "        text-align: right;\n",
       "    }\n",
       "</style>\n",
       "<table border=\"1\" class=\"dataframe\">\n",
       "  <thead>\n",
       "    <tr style=\"text-align: right;\">\n",
       "      <th></th>\n",
       "      <th>PATIENT_ID</th>\n",
       "      <th>CLAIM_ID</th>\n",
       "      <th>CLAIM_TYP_CD</th>\n",
       "      <th>SERVICE_DATE</th>\n",
       "      <th>MONTH_ID</th>\n",
       "      <th>YEAR</th>\n",
       "      <th>MONTH</th>\n",
       "      <th>DAYS</th>\n",
       "      <th>DIAGNOSIS_CODE</th>\n",
       "      <th>DIAG_VERS_TYP_ID</th>\n",
       "      <th>...</th>\n",
       "      <th>BC_DIAG_DATE</th>\n",
       "      <th>SN_DIAG_DATE</th>\n",
       "      <th>DAY_DIFF</th>\n",
       "      <th>BC_PATIENT_False</th>\n",
       "      <th>BC_PATIENT_True</th>\n",
       "      <th>META_STATIC_False</th>\n",
       "      <th>SN_PATIENT_False</th>\n",
       "      <th>SN_PATIENT_True</th>\n",
       "      <th>mBC_PATIENT_False</th>\n",
       "      <th>mBC_PATIENT_True</th>\n",
       "    </tr>\n",
       "  </thead>\n",
       "  <tbody>\n",
       "    <tr>\n",
       "      <th>56065</th>\n",
       "      <td>999593822</td>\n",
       "      <td>149068883621</td>\n",
       "      <td>P</td>\n",
       "      <td>2016-05-02</td>\n",
       "      <td>201605</td>\n",
       "      <td>2016</td>\n",
       "      <td>5</td>\n",
       "      <td>2</td>\n",
       "      <td>C79.81</td>\n",
       "      <td>2</td>\n",
       "      <td>...</td>\n",
       "      <td>2013-10-16</td>\n",
       "      <td>2013-11-25</td>\n",
       "      <td>40</td>\n",
       "      <td>0</td>\n",
       "      <td>1</td>\n",
       "      <td>1</td>\n",
       "      <td>0</td>\n",
       "      <td>1</td>\n",
       "      <td>0</td>\n",
       "      <td>1</td>\n",
       "    </tr>\n",
       "    <tr>\n",
       "      <th>56072</th>\n",
       "      <td>999593822</td>\n",
       "      <td>136796440372</td>\n",
       "      <td>P</td>\n",
       "      <td>2016-03-21</td>\n",
       "      <td>201603</td>\n",
       "      <td>2016</td>\n",
       "      <td>3</td>\n",
       "      <td>21</td>\n",
       "      <td>C79.81</td>\n",
       "      <td>2</td>\n",
       "      <td>...</td>\n",
       "      <td>2013-10-16</td>\n",
       "      <td>2013-11-25</td>\n",
       "      <td>40</td>\n",
       "      <td>0</td>\n",
       "      <td>1</td>\n",
       "      <td>1</td>\n",
       "      <td>0</td>\n",
       "      <td>1</td>\n",
       "      <td>0</td>\n",
       "      <td>1</td>\n",
       "    </tr>\n",
       "    <tr>\n",
       "      <th>56079</th>\n",
       "      <td>999593822</td>\n",
       "      <td>131271401765</td>\n",
       "      <td>P</td>\n",
       "      <td>2016-02-08</td>\n",
       "      <td>201602</td>\n",
       "      <td>2016</td>\n",
       "      <td>2</td>\n",
       "      <td>8</td>\n",
       "      <td>C79.81</td>\n",
       "      <td>2</td>\n",
       "      <td>...</td>\n",
       "      <td>2013-10-16</td>\n",
       "      <td>2013-11-25</td>\n",
       "      <td>40</td>\n",
       "      <td>0</td>\n",
       "      <td>1</td>\n",
       "      <td>1</td>\n",
       "      <td>0</td>\n",
       "      <td>1</td>\n",
       "      <td>0</td>\n",
       "      <td>1</td>\n",
       "    </tr>\n",
       "    <tr>\n",
       "      <th>56135</th>\n",
       "      <td>999593822</td>\n",
       "      <td>127973984874</td>\n",
       "      <td>P</td>\n",
       "      <td>2015-12-28</td>\n",
       "      <td>201512</td>\n",
       "      <td>2015</td>\n",
       "      <td>12</td>\n",
       "      <td>28</td>\n",
       "      <td>C79.81</td>\n",
       "      <td>2</td>\n",
       "      <td>...</td>\n",
       "      <td>2013-10-16</td>\n",
       "      <td>2013-11-25</td>\n",
       "      <td>40</td>\n",
       "      <td>0</td>\n",
       "      <td>1</td>\n",
       "      <td>1</td>\n",
       "      <td>0</td>\n",
       "      <td>1</td>\n",
       "      <td>0</td>\n",
       "      <td>1</td>\n",
       "    </tr>\n",
       "    <tr>\n",
       "      <th>56143</th>\n",
       "      <td>999593822</td>\n",
       "      <td>127144463143</td>\n",
       "      <td>P</td>\n",
       "      <td>2015-11-18</td>\n",
       "      <td>201511</td>\n",
       "      <td>2015</td>\n",
       "      <td>11</td>\n",
       "      <td>18</td>\n",
       "      <td>C79.81</td>\n",
       "      <td>2</td>\n",
       "      <td>...</td>\n",
       "      <td>2013-10-16</td>\n",
       "      <td>2013-11-25</td>\n",
       "      <td>40</td>\n",
       "      <td>0</td>\n",
       "      <td>1</td>\n",
       "      <td>1</td>\n",
       "      <td>0</td>\n",
       "      <td>1</td>\n",
       "      <td>0</td>\n",
       "      <td>1</td>\n",
       "    </tr>\n",
       "  </tbody>\n",
       "</table>\n",
       "<p>5 rows × 26 columns</p>\n",
       "</div>"
      ],
      "text/plain": [
       "       PATIENT_ID      CLAIM_ID CLAIM_TYP_CD SERVICE_DATE  MONTH_ID  YEAR  \\\n",
       "56065   999593822  149068883621            P   2016-05-02    201605  2016   \n",
       "56072   999593822  136796440372            P   2016-03-21    201603  2016   \n",
       "56079   999593822  131271401765            P   2016-02-08    201602  2016   \n",
       "56135   999593822  127973984874            P   2015-12-28    201512  2015   \n",
       "56143   999593822  127144463143            P   2015-11-18    201511  2015   \n",
       "\n",
       "       MONTH  DAYS DIAGNOSIS_CODE  DIAG_VERS_TYP_ID  ...  BC_DIAG_DATE  \\\n",
       "56065      5     2         C79.81                 2  ...    2013-10-16   \n",
       "56072      3    21         C79.81                 2  ...    2013-10-16   \n",
       "56079      2     8         C79.81                 2  ...    2013-10-16   \n",
       "56135     12    28         C79.81                 2  ...    2013-10-16   \n",
       "56143     11    18         C79.81                 2  ...    2013-10-16   \n",
       "\n",
       "       SN_DIAG_DATE  DAY_DIFF BC_PATIENT_False BC_PATIENT_True  \\\n",
       "56065    2013-11-25        40                0               1   \n",
       "56072    2013-11-25        40                0               1   \n",
       "56079    2013-11-25        40                0               1   \n",
       "56135    2013-11-25        40                0               1   \n",
       "56143    2013-11-25        40                0               1   \n",
       "\n",
       "      META_STATIC_False SN_PATIENT_False SN_PATIENT_True  mBC_PATIENT_False  \\\n",
       "56065                 1                0               1                  0   \n",
       "56072                 1                0               1                  0   \n",
       "56079                 1                0               1                  0   \n",
       "56135                 1                0               1                  0   \n",
       "56143                 1                0               1                  0   \n",
       "\n",
       "       mBC_PATIENT_True  \n",
       "56065                 1  \n",
       "56072                 1  \n",
       "56079                 1  \n",
       "56135                 1  \n",
       "56143                 1  \n",
       "\n",
       "[5 rows x 26 columns]"
      ]
     },
     "execution_count": 133,
     "metadata": {},
     "output_type": "execute_result"
    }
   ],
   "source": [
    "ohe1 = pd.get_dummies(data.BC_PATIENT, prefix=\"BC_PATIENT\")\n",
    "ohe2 = pd.get_dummies(data.META_STATIC, prefix=\"META_STATIC\")\n",
    "ohe3 = pd.get_dummies(data.SN_PATIENT, prefix=\"SN_PATIENT\")\n",
    "ohe4 = pd.get_dummies(data.mBC_PATIENT, prefix=\"mBC_PATIENT\")\n",
    "data.drop([\"BC_PATIENT\", \"META_STATIC\", \"SN_PATIENT\", \"mBC_PATIENT\"], axis = 1, inplace=True)\n",
    "data = pd.concat([data, ohe1, ohe2, ohe3, ohe4], axis=1)\n",
    "data.head()"
   ]
  },
  {
   "cell_type": "code",
   "execution_count": 134,
   "metadata": {},
   "outputs": [
    {
     "data": {
      "text/plain": [
       "Index(['PATIENT_ID', 'CLAIM_ID', 'CLAIM_TYP_CD', 'SERVICE_DATE', 'MONTH_ID',\n",
       "       'YEAR', 'MONTH', 'DAYS', 'DIAGNOSIS_CODE', 'DIAG_VERS_TYP_ID',\n",
       "       'DIAG_CD_POSN_NBR', 'PROVIDER_ID', 'RESTATE_FLAG', 'INDICATION_CD',\n",
       "       'VERSION', 'SUB_INDICATION_CD', 'BC_DIAG_DATE', 'SN_DIAG_DATE',\n",
       "       'DAY_DIFF', 'BC_PATIENT_False', 'BC_PATIENT_True', 'META_STATIC_False',\n",
       "       'SN_PATIENT_False', 'SN_PATIENT_True', 'mBC_PATIENT_False',\n",
       "       'mBC_PATIENT_True'],\n",
       "      dtype='object')"
      ]
     },
     "execution_count": 134,
     "metadata": {},
     "output_type": "execute_result"
    }
   ],
   "source": [
    "data.columns"
   ]
  },
  {
   "cell_type": "code",
   "execution_count": 137,
   "metadata": {},
   "outputs": [
    {
     "data": {
      "text/html": [
       "<div>\n",
       "<style scoped>\n",
       "    .dataframe tbody tr th:only-of-type {\n",
       "        vertical-align: middle;\n",
       "    }\n",
       "\n",
       "    .dataframe tbody tr th {\n",
       "        vertical-align: top;\n",
       "    }\n",
       "\n",
       "    .dataframe thead th {\n",
       "        text-align: right;\n",
       "    }\n",
       "</style>\n",
       "<table border=\"1\" class=\"dataframe\">\n",
       "  <thead>\n",
       "    <tr style=\"text-align: right;\">\n",
       "      <th></th>\n",
       "      <th>DAY_DIFF</th>\n",
       "      <th>META_STATIC_False</th>\n",
       "      <th>SN_PATIENT_False</th>\n",
       "      <th>SN_PATIENT_True</th>\n",
       "      <th>mBC_PATIENT_False</th>\n",
       "      <th>mBC_PATIENT_True</th>\n",
       "    </tr>\n",
       "  </thead>\n",
       "  <tbody>\n",
       "    <tr>\n",
       "      <th>56065</th>\n",
       "      <td>40</td>\n",
       "      <td>1</td>\n",
       "      <td>0</td>\n",
       "      <td>1</td>\n",
       "      <td>0</td>\n",
       "      <td>1</td>\n",
       "    </tr>\n",
       "    <tr>\n",
       "      <th>56072</th>\n",
       "      <td>40</td>\n",
       "      <td>1</td>\n",
       "      <td>0</td>\n",
       "      <td>1</td>\n",
       "      <td>0</td>\n",
       "      <td>1</td>\n",
       "    </tr>\n",
       "    <tr>\n",
       "      <th>56079</th>\n",
       "      <td>40</td>\n",
       "      <td>1</td>\n",
       "      <td>0</td>\n",
       "      <td>1</td>\n",
       "      <td>0</td>\n",
       "      <td>1</td>\n",
       "    </tr>\n",
       "    <tr>\n",
       "      <th>56135</th>\n",
       "      <td>40</td>\n",
       "      <td>1</td>\n",
       "      <td>0</td>\n",
       "      <td>1</td>\n",
       "      <td>0</td>\n",
       "      <td>1</td>\n",
       "    </tr>\n",
       "    <tr>\n",
       "      <th>56143</th>\n",
       "      <td>40</td>\n",
       "      <td>1</td>\n",
       "      <td>0</td>\n",
       "      <td>1</td>\n",
       "      <td>0</td>\n",
       "      <td>1</td>\n",
       "    </tr>\n",
       "  </tbody>\n",
       "</table>\n",
       "</div>"
      ],
      "text/plain": [
       "       DAY_DIFF  META_STATIC_False  SN_PATIENT_False  SN_PATIENT_True  \\\n",
       "56065        40                  1                 0                1   \n",
       "56072        40                  1                 0                1   \n",
       "56079        40                  1                 0                1   \n",
       "56135        40                  1                 0                1   \n",
       "56143        40                  1                 0                1   \n",
       "\n",
       "       mBC_PATIENT_False  mBC_PATIENT_True  \n",
       "56065                  0                 1  \n",
       "56072                  0                 1  \n",
       "56079                  0                 1  \n",
       "56135                  0                 1  \n",
       "56143                  0                 1  "
      ]
     },
     "execution_count": 137,
     "metadata": {},
     "output_type": "execute_result"
    }
   ],
   "source": [
    "data = data[[\"DAY_DIFF\", \"META_STATIC_False\", \"SN_PATIENT_False\", \"SN_PATIENT_True\", \"mBC_PATIENT_False\", \"mBC_PATIENT_True\"]]\n",
    "data.head()"
   ]
  },
  {
   "cell_type": "code",
   "execution_count": 138,
   "metadata": {},
   "outputs": [
    {
     "data": {
      "text/plain": [
       "DAY_DIFF             int64\n",
       "META_STATIC_False    uint8\n",
       "SN_PATIENT_False     uint8\n",
       "SN_PATIENT_True      uint8\n",
       "mBC_PATIENT_False    uint8\n",
       "mBC_PATIENT_True     uint8\n",
       "dtype: object"
      ]
     },
     "execution_count": 138,
     "metadata": {},
     "output_type": "execute_result"
    }
   ],
   "source": [
    "data.dtypes"
   ]
  },
  {
   "cell_type": "code",
   "execution_count": 139,
   "metadata": {},
   "outputs": [
    {
     "data": {
      "text/html": [
       "<div>\n",
       "<style scoped>\n",
       "    .dataframe tbody tr th:only-of-type {\n",
       "        vertical-align: middle;\n",
       "    }\n",
       "\n",
       "    .dataframe tbody tr th {\n",
       "        vertical-align: top;\n",
       "    }\n",
       "\n",
       "    .dataframe thead th {\n",
       "        text-align: right;\n",
       "    }\n",
       "</style>\n",
       "<table border=\"1\" class=\"dataframe\">\n",
       "  <thead>\n",
       "    <tr style=\"text-align: right;\">\n",
       "      <th></th>\n",
       "      <th>Total</th>\n",
       "      <th>Percent</th>\n",
       "    </tr>\n",
       "  </thead>\n",
       "  <tbody>\n",
       "    <tr>\n",
       "      <th>mBC_PATIENT_True</th>\n",
       "      <td>0</td>\n",
       "      <td>0.000</td>\n",
       "    </tr>\n",
       "    <tr>\n",
       "      <th>mBC_PATIENT_False</th>\n",
       "      <td>0</td>\n",
       "      <td>0.000</td>\n",
       "    </tr>\n",
       "    <tr>\n",
       "      <th>SN_PATIENT_True</th>\n",
       "      <td>0</td>\n",
       "      <td>0.000</td>\n",
       "    </tr>\n",
       "    <tr>\n",
       "      <th>SN_PATIENT_False</th>\n",
       "      <td>0</td>\n",
       "      <td>0.000</td>\n",
       "    </tr>\n",
       "    <tr>\n",
       "      <th>META_STATIC_False</th>\n",
       "      <td>0</td>\n",
       "      <td>0.000</td>\n",
       "    </tr>\n",
       "  </tbody>\n",
       "</table>\n",
       "</div>"
      ],
      "text/plain": [
       "                   Total  Percent\n",
       "mBC_PATIENT_True       0    0.000\n",
       "mBC_PATIENT_False      0    0.000\n",
       "SN_PATIENT_True        0    0.000\n",
       "SN_PATIENT_False       0    0.000\n",
       "META_STATIC_False      0    0.000"
      ]
     },
     "execution_count": 139,
     "metadata": {},
     "output_type": "execute_result"
    }
   ],
   "source": [
    "# checking missing data in data \n",
    "total = data.isnull().sum().sort_values(ascending = False)\n",
    "percent = (data.isnull().sum()/data.isnull().count()*100).sort_values(ascending = False)\n",
    "missing_data  = pd.concat([total, percent], axis=1, keys=['Total', 'Percent'])\n",
    "missing_data.head()"
   ]
  },
  {
   "cell_type": "code",
   "execution_count": 140,
   "metadata": {},
   "outputs": [],
   "source": [
    "x_train, x_test, y_train, y_test = train_test_split(\n",
    "        data.iloc[:,:4].values,\n",
    "        data.iloc[:,4].values,\n",
    "        random_state = RANDOM_STATE_PARAMETER,\n",
    "        test_size=TEST_SIZE,\n",
    "    )                 "
   ]
  },
  {
   "cell_type": "code",
   "execution_count": 141,
   "metadata": {},
   "outputs": [
    {
     "name": "stdout",
     "output_type": "stream",
     "text": [
      "x_train:(5039, 4),y_train:(5039,),x_test:(1680, 4),y_test:(1680,)\n"
     ]
    }
   ],
   "source": [
    "print(f\"x_train:{x_train.shape},y_train:{y_train.shape},x_test:{x_test.shape},y_test:{y_test.shape}\")"
   ]
  },
  {
   "cell_type": "code",
   "execution_count": 142,
   "metadata": {},
   "outputs": [
    {
     "data": {
      "text/plain": [
       "0.2500001566189355"
      ]
     },
     "execution_count": 142,
     "metadata": {},
     "output_type": "execute_result"
    }
   ],
   "source": [
    "798116/(798116 + 2394346)"
   ]
  },
  {
   "cell_type": "markdown",
   "metadata": {},
   "source": [
    "# Random forest classifier "
   ]
  },
  {
   "cell_type": "code",
   "execution_count": 143,
   "metadata": {},
   "outputs": [],
   "source": [
    "rf = RandomForestClassifier()      \n",
    "rf = rf.fit(x_train,y_train)"
   ]
  },
  {
   "cell_type": "code",
   "execution_count": 144,
   "metadata": {},
   "outputs": [
    {
     "name": "stdout",
     "output_type": "stream",
     "text": [
      "Accuracy is:  1.0\n",
      "F1 Score is:  1.0\n"
     ]
    },
    {
     "data": {
      "text/plain": [
       "<AxesSubplot:>"
      ]
     },
     "execution_count": 144,
     "metadata": {},
     "output_type": "execute_result"
    },
    {
     "data": {
      "image/png": "[encoded data removed]",
      "text/plain": [
       "<Figure size 432x288 with 2 Axes>"
      ]
     },
     "metadata": {
      "needs_background": "light"
     },
     "output_type": "display_data"
    }
   ],
   "source": [
    "y_prediction = rf.predict(x_test)\n",
    "ac = accuracy_score(y_test, y_prediction)\n",
    "print('Accuracy is: ',ac)\n",
    "f1 = f1_score(y_test, y_prediction)\n",
    "print('F1 Score is: ', f1)\n",
    "cm = confusion_matrix(y_test, y_prediction)\n",
    "sns.heatmap(cm,annot=True,fmt=\"d\")"
   ]
  },
  {
   "cell_type": "code",
   "execution_count": 145,
   "metadata": {},
   "outputs": [
    {
     "name": "stdout",
     "output_type": "stream",
     "text": [
      "Accuracy is:  1.0\n",
      "F1 Score is:  1.0\n",
      "tn:1455, fn:0, tp:225, fp:0\n"
     ]
    }
   ],
   "source": [
    "ac = accuracy_score(y_test, y_prediction)\n",
    "print('Accuracy is: ',ac)\n",
    "f1 = f1_score(y_test, y_prediction)\n",
    "print('F1 Score is: ', f1)\n",
    "tn, fp, fn, tp = confusion_matrix(y_test, y_prediction).ravel()\n",
    "print(f\"tn:{tn}, fn:{fn}, tp:{tp}, fp:{fp}\")"
   ]
  },
  {
   "cell_type": "code",
   "execution_count": 146,
   "metadata": {},
   "outputs": [],
   "source": [
    "def compute_metrics(tn: float, tp: float, fn:float, fp: float) -> Tuple[float, float, float]:\n",
    "    accuracy  = (tp + tn) / (tp + tn + fp +fn)\n",
    "    sensitivity  = tp / (tp + fn)\n",
    "    specificity = tn / (tn + fp)\n",
    "    return (accuracy, sensitivity, specificity)"
   ]
  },
  {
   "cell_type": "code",
   "execution_count": 147,
   "metadata": {},
   "outputs": [
    {
     "name": "stdout",
     "output_type": "stream",
     "text": [
      "accuracy:1.0, sensitivity:1.0, specificity:1.0\n"
     ]
    }
   ],
   "source": [
    "(accuracy, sensitivity, specificity) = compute_metrics(tn, tp, fn, fp)\n",
    "print(f\"accuracy:{accuracy}, sensitivity:{sensitivity}, specificity:{specificity}\")"
   ]
  },
  {
   "cell_type": "markdown",
   "metadata": {},
   "source": [
    "# Logistic Regression"
   ]
  },
  {
   "cell_type": "code",
   "execution_count": 148,
   "metadata": {},
   "outputs": [],
   "source": [
    "# Create classifier\n",
    "clf = LogisticRegression(class_weight='balanced')\n",
    "\n",
    "# Train model\n",
    "clf.fit(x_train, y_train)\n",
    "\n",
    "# Get predicted probabilities\n",
    "y_score = clf.predict_proba(x_test)[:,1]\n",
    "y_prediction = clf.predict(x_test)"
   ]
  },
  {
   "cell_type": "code",
   "execution_count": 149,
   "metadata": {},
   "outputs": [],
   "source": [
    "tn, fp, fn, tp = confusion_matrix(y_test, y_prediction).ravel()"
   ]
  },
  {
   "cell_type": "code",
   "execution_count": 150,
   "metadata": {},
   "outputs": [
    {
     "name": "stdout",
     "output_type": "stream",
     "text": [
      "accuracy:1.0, sensitivity:1.0, specificity:1.0\n"
     ]
    }
   ],
   "source": [
    "(accuracy, sensitivity, specificity) = compute_metrics(tn, tp, fn, fp)\n",
    "print(f\"accuracy:{accuracy}, sensitivity:{sensitivity}, specificity:{specificity}\")"
   ]
  },
  {
   "cell_type": "code",
   "execution_count": null,
   "metadata": {},
   "outputs": [],
   "source": []
  },
  {
   "cell_type": "code",
   "execution_count": null,
   "metadata": {},
   "outputs": [],
   "source": []
  }
 ],
 "metadata": {
  "kernelspec": {
   "display_name": "data-competition",
   "language": "python",
   "name": "data-competition"
  },
  "language_info": {
   "codemirror_mode": {
    "name": "ipython",
    "version": 3
   },
   "file_extension": ".py",
   "mimetype": "text/x-python",
   "name": "python",
   "nbconvert_exporter": "python",
   "pygments_lexer": "ipython3",
   "version": "3.7.3"
  }
 },
 "nbformat": 4,
 "nbformat_minor": 4
}
