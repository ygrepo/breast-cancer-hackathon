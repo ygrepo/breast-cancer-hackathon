{
 "cells": [
  {
   "cell_type": "code",
   "execution_count": 1,
   "metadata": {},
   "outputs": [],
   "source": [
    "import numpy as np # linear algebra\n",
    "import pandas as pd # data processing, CSV file I/O (e.g. pd.read_csv)\n",
    "pd.set_option('large_repr', 'truncate')\n",
    "pd.set_option('display.float_format', lambda x: '%.3f' % x)\n",
    "import matplotlib.pyplot as plt\n",
    "plt.style.use('ggplot')\n",
    "import seaborn as sns\n",
    "\n",
    "\n",
    "from pathlib import Path\n",
    "\n",
    "from sklearn.preprocessing import  LabelEncoder\n",
    "from sklearn.model_selection import train_test_split, RandomizedSearchCV\n",
    "from sklearn.ensemble import RandomForestClassifier\n",
    "from sklearn.metrics import f1_score, roc_curve, roc_auc_score,confusion_matrix\n",
    "from sklearn.metrics import accuracy_score\n",
    "from sklearn.linear_model import LogisticRegression\n",
    "from xgboost import XGBClassifier\n",
    "\n",
    "from typing import Tuple\n",
    "\n",
    "import warnings\n",
    "warnings.filterwarnings('ignore')"
   ]
  },
  {
   "cell_type": "code",
   "execution_count": 2,
   "metadata": {},
   "outputs": [],
   "source": [
    "# Plot settings\n",
    "sns.set_context('notebook') \n",
    "sns.set_style('ticks') \n",
    "colours = ['#1F77B4', '#FF7F0E', '#2CA02C', '#DB2728', '#9467BD', '#8C564B', '#E377C2','#7F7F7F', '#BCBD22', '#17BECF']\n",
    "sns.set_palette(colours)\n",
    "%matplotlib inline"
   ]
  },
  {
   "cell_type": "code",
   "execution_count": 3,
   "metadata": {},
   "outputs": [],
   "source": [
    "import sys\n",
    "sys.path.insert(0, '../src')\n",
    "from ds_toolbox import create_balanced_dataset, plot_confusion_matrix_with_labels, compute_metrics"
   ]
  },
  {
   "cell_type": "code",
   "execution_count": 4,
   "metadata": {},
   "outputs": [],
   "source": [
    "%load_ext autoreload\n",
    "%autoreload 2"
   ]
  },
  {
   "cell_type": "code",
   "execution_count": 5,
   "metadata": {},
   "outputs": [],
   "source": [
    "DATA_PATH = Path(\"../data/\")\n",
    "DOCUMENTATION_PATH = Path(\"../documentation\")\n",
    "RANDOM_STATE_PARAMETER = 42\n",
    "TEST_SIZE = .25"
   ]
  },
  {
   "cell_type": "code",
   "execution_count": 6,
   "metadata": {},
   "outputs": [
    {
     "data": {
      "text/html": [
       "<div>\n",
       "<style scoped>\n",
       "    .dataframe tbody tr th:only-of-type {\n",
       "        vertical-align: middle;\n",
       "    }\n",
       "\n",
       "    .dataframe tbody tr th {\n",
       "        vertical-align: top;\n",
       "    }\n",
       "\n",
       "    .dataframe thead th {\n",
       "        text-align: right;\n",
       "    }\n",
       "</style>\n",
       "<table border=\"1\" class=\"dataframe\">\n",
       "  <thead>\n",
       "    <tr style=\"text-align: right;\">\n",
       "      <th></th>\n",
       "      <th>PATIENT_ID</th>\n",
       "      <th>Service_date</th>\n",
       "      <th>Season</th>\n",
       "      <th>PRC_STD_CD</th>\n",
       "      <th>Blood</th>\n",
       "      <th>Bone</th>\n",
       "      <th>Breast</th>\n",
       "      <th>Heart</th>\n",
       "      <th>Lungs</th>\n",
       "      <th>Medication</th>\n",
       "      <th>Other</th>\n",
       "      <th>Skin</th>\n",
       "      <th>Stomach</th>\n",
       "      <th>Vagina</th>\n",
       "      <th>mBC_PATIENT</th>\n",
       "    </tr>\n",
       "  </thead>\n",
       "  <tbody>\n",
       "    <tr>\n",
       "      <th>0</th>\n",
       "      <td>134290358</td>\n",
       "      <td>10/15/2015</td>\n",
       "      <td>4</td>\n",
       "      <td>99214</td>\n",
       "      <td>0</td>\n",
       "      <td>0</td>\n",
       "      <td>0</td>\n",
       "      <td>0</td>\n",
       "      <td>0</td>\n",
       "      <td>0</td>\n",
       "      <td>1</td>\n",
       "      <td>0</td>\n",
       "      <td>0</td>\n",
       "      <td>0</td>\n",
       "      <td>True</td>\n",
       "    </tr>\n",
       "    <tr>\n",
       "      <th>1</th>\n",
       "      <td>134290358</td>\n",
       "      <td>10/15/2015</td>\n",
       "      <td>4</td>\n",
       "      <td>99214</td>\n",
       "      <td>0</td>\n",
       "      <td>0</td>\n",
       "      <td>0</td>\n",
       "      <td>0</td>\n",
       "      <td>0</td>\n",
       "      <td>0</td>\n",
       "      <td>1</td>\n",
       "      <td>0</td>\n",
       "      <td>0</td>\n",
       "      <td>0</td>\n",
       "      <td>True</td>\n",
       "    </tr>\n",
       "    <tr>\n",
       "      <th>2</th>\n",
       "      <td>134290358</td>\n",
       "      <td>10/15/2015</td>\n",
       "      <td>4</td>\n",
       "      <td>99214</td>\n",
       "      <td>0</td>\n",
       "      <td>0</td>\n",
       "      <td>0</td>\n",
       "      <td>0</td>\n",
       "      <td>0</td>\n",
       "      <td>0</td>\n",
       "      <td>1</td>\n",
       "      <td>0</td>\n",
       "      <td>0</td>\n",
       "      <td>0</td>\n",
       "      <td>True</td>\n",
       "    </tr>\n",
       "    <tr>\n",
       "      <th>3</th>\n",
       "      <td>1057559593</td>\n",
       "      <td>11/25/2015</td>\n",
       "      <td>4</td>\n",
       "      <td>85025</td>\n",
       "      <td>0</td>\n",
       "      <td>0</td>\n",
       "      <td>0</td>\n",
       "      <td>0</td>\n",
       "      <td>0</td>\n",
       "      <td>0</td>\n",
       "      <td>1</td>\n",
       "      <td>0</td>\n",
       "      <td>0</td>\n",
       "      <td>0</td>\n",
       "      <td>True</td>\n",
       "    </tr>\n",
       "    <tr>\n",
       "      <th>4</th>\n",
       "      <td>1057559593</td>\n",
       "      <td>11/25/2015</td>\n",
       "      <td>4</td>\n",
       "      <td>36415</td>\n",
       "      <td>0</td>\n",
       "      <td>0</td>\n",
       "      <td>0</td>\n",
       "      <td>0</td>\n",
       "      <td>0</td>\n",
       "      <td>0</td>\n",
       "      <td>1</td>\n",
       "      <td>0</td>\n",
       "      <td>0</td>\n",
       "      <td>0</td>\n",
       "      <td>True</td>\n",
       "    </tr>\n",
       "  </tbody>\n",
       "</table>\n",
       "</div>"
      ],
      "text/plain": [
       "   PATIENT_ID Service_date  Season PRC_STD_CD  Blood  Bone  Breast  Heart  \\\n",
       "0   134290358   10/15/2015       4      99214      0     0       0      0   \n",
       "1   134290358   10/15/2015       4      99214      0     0       0      0   \n",
       "2   134290358   10/15/2015       4      99214      0     0       0      0   \n",
       "3  1057559593   11/25/2015       4      85025      0     0       0      0   \n",
       "4  1057559593   11/25/2015       4      36415      0     0       0      0   \n",
       "\n",
       "   Lungs  Medication  Other  Skin  Stomach  Vagina  mBC_PATIENT  \n",
       "0      0           0      1     0        0       0         True  \n",
       "1      0           0      1     0        0       0         True  \n",
       "2      0           0      1     0        0       0         True  \n",
       "3      0           0      1     0        0       0         True  \n",
       "4      0           0      1     0        0       0         True  "
      ]
     },
     "execution_count": 6,
     "metadata": {},
     "output_type": "execute_result"
    }
   ],
   "source": [
    "data = pd.read_csv(DATA_PATH / \"apld_patients.csv\")\n",
    "data.reset_index(inplace=True)\n",
    "data.drop([\"BC_PATIENT\", \"SN_PATIENT\", \"DIAGNOSIS_CODE\", \"index\"], axis=1, inplace=True)\n",
    "data.rename(columns={\"SERVICE_DATE_y\": \"Service_date\", \"SEASON\": \"Season\"}, inplace=True)\n",
    "cols = ['PATIENT_ID',\n",
    " 'Service_date',\n",
    " 'Season',\n",
    " 'PRC_STD_CD',\n",
    " 'Blood',\n",
    " 'Bone',\n",
    " 'Breast',\n",
    " 'Heart',\n",
    " 'Lungs',\n",
    " 'Medication',\n",
    " 'Medication ',\n",
    " 'Other',\n",
    " 'Skin',\n",
    " 'Stomach',\n",
    " 'Vagina',\n",
    "  'mBC_PATIENT']\n",
    "data = data[cols]\n",
    "data = pd.concat([data.iloc[:,:10], data.iloc[:, 11:]], axis=1)\n",
    "data.head()"
   ]
  },
  {
   "cell_type": "code",
   "execution_count": 7,
   "metadata": {},
   "outputs": [
    {
     "data": {
      "text/plain": [
       "Index(['PATIENT_ID', 'Service_date', 'Season', 'PRC_STD_CD', 'Blood', 'Bone',\n",
       "       'Breast', 'Heart', 'Lungs', 'Medication', 'Other', 'Skin', 'Stomach',\n",
       "       'Vagina', 'mBC_PATIENT'],\n",
       "      dtype='object')"
      ]
     },
     "execution_count": 7,
     "metadata": {},
     "output_type": "execute_result"
    }
   ],
   "source": [
    "data.columns"
   ]
  },
  {
   "cell_type": "code",
   "execution_count": 16,
   "metadata": {},
   "outputs": [
    {
     "data": {
      "text/html": [
       "<div>\n",
       "<style scoped>\n",
       "    .dataframe tbody tr th:only-of-type {\n",
       "        vertical-align: middle;\n",
       "    }\n",
       "\n",
       "    .dataframe tbody tr th {\n",
       "        vertical-align: top;\n",
       "    }\n",
       "\n",
       "    .dataframe thead th {\n",
       "        text-align: right;\n",
       "    }\n",
       "</style>\n",
       "<table border=\"1\" class=\"dataframe\">\n",
       "  <thead>\n",
       "    <tr style=\"text-align: right;\">\n",
       "      <th></th>\n",
       "      <th>Blood</th>\n",
       "      <th>Bone</th>\n",
       "      <th>Breast</th>\n",
       "      <th>Heart</th>\n",
       "      <th>Lungs</th>\n",
       "      <th>Other</th>\n",
       "      <th>Skin</th>\n",
       "      <th>Stomach</th>\n",
       "      <th>Vagina</th>\n",
       "      <th>Medication</th>\n",
       "      <th>Season_1</th>\n",
       "      <th>Season_2</th>\n",
       "      <th>Season_3</th>\n",
       "      <th>Season_4</th>\n",
       "      <th>mBC_PATIENT</th>\n",
       "    </tr>\n",
       "  </thead>\n",
       "  <tbody>\n",
       "    <tr>\n",
       "      <th>0</th>\n",
       "      <td>0</td>\n",
       "      <td>0</td>\n",
       "      <td>0</td>\n",
       "      <td>0</td>\n",
       "      <td>0</td>\n",
       "      <td>1</td>\n",
       "      <td>0</td>\n",
       "      <td>0</td>\n",
       "      <td>0</td>\n",
       "      <td>0</td>\n",
       "      <td>0</td>\n",
       "      <td>0</td>\n",
       "      <td>0</td>\n",
       "      <td>1</td>\n",
       "      <td>1</td>\n",
       "    </tr>\n",
       "    <tr>\n",
       "      <th>1</th>\n",
       "      <td>0</td>\n",
       "      <td>0</td>\n",
       "      <td>0</td>\n",
       "      <td>0</td>\n",
       "      <td>0</td>\n",
       "      <td>1</td>\n",
       "      <td>0</td>\n",
       "      <td>0</td>\n",
       "      <td>0</td>\n",
       "      <td>0</td>\n",
       "      <td>0</td>\n",
       "      <td>0</td>\n",
       "      <td>0</td>\n",
       "      <td>1</td>\n",
       "      <td>1</td>\n",
       "    </tr>\n",
       "    <tr>\n",
       "      <th>2</th>\n",
       "      <td>0</td>\n",
       "      <td>0</td>\n",
       "      <td>0</td>\n",
       "      <td>0</td>\n",
       "      <td>0</td>\n",
       "      <td>1</td>\n",
       "      <td>0</td>\n",
       "      <td>0</td>\n",
       "      <td>0</td>\n",
       "      <td>0</td>\n",
       "      <td>0</td>\n",
       "      <td>0</td>\n",
       "      <td>0</td>\n",
       "      <td>1</td>\n",
       "      <td>1</td>\n",
       "    </tr>\n",
       "    <tr>\n",
       "      <th>3</th>\n",
       "      <td>0</td>\n",
       "      <td>0</td>\n",
       "      <td>0</td>\n",
       "      <td>0</td>\n",
       "      <td>0</td>\n",
       "      <td>1</td>\n",
       "      <td>0</td>\n",
       "      <td>0</td>\n",
       "      <td>0</td>\n",
       "      <td>0</td>\n",
       "      <td>0</td>\n",
       "      <td>0</td>\n",
       "      <td>0</td>\n",
       "      <td>1</td>\n",
       "      <td>1</td>\n",
       "    </tr>\n",
       "    <tr>\n",
       "      <th>4</th>\n",
       "      <td>0</td>\n",
       "      <td>0</td>\n",
       "      <td>0</td>\n",
       "      <td>0</td>\n",
       "      <td>0</td>\n",
       "      <td>1</td>\n",
       "      <td>0</td>\n",
       "      <td>0</td>\n",
       "      <td>0</td>\n",
       "      <td>0</td>\n",
       "      <td>0</td>\n",
       "      <td>0</td>\n",
       "      <td>0</td>\n",
       "      <td>1</td>\n",
       "      <td>1</td>\n",
       "    </tr>\n",
       "  </tbody>\n",
       "</table>\n",
       "</div>"
      ],
      "text/plain": [
       "   Blood  Bone  Breast  Heart  Lungs  Other  Skin  Stomach  Vagina  \\\n",
       "0      0     0       0      0      0      1     0        0       0   \n",
       "1      0     0       0      0      0      1     0        0       0   \n",
       "2      0     0       0      0      0      1     0        0       0   \n",
       "3      0     0       0      0      0      1     0        0       0   \n",
       "4      0     0       0      0      0      1     0        0       0   \n",
       "\n",
       "   Medication  Season_1  Season_2  Season_3  Season_4  mBC_PATIENT  \n",
       "0           0         0         0         0         1            1  \n",
       "1           0         0         0         0         1            1  \n",
       "2           0         0         0         0         1            1  \n",
       "3           0         0         0         0         1            1  \n",
       "4           0         0         0         0         1            1  "
      ]
     },
     "execution_count": 16,
     "metadata": {},
     "output_type": "execute_result"
    }
   ],
   "source": [
    "FEATURES = ['Season', 'Medication', 'Blood', 'Bone',\n",
    "       'Breast', 'Heart', 'Lungs',  \n",
    "       'Skin', 'Stomach', 'Vagina', 'Other', 'mBC_PATIENT']\n",
    "model_data = data[FEATURES]\n",
    "ohe = pd.get_dummies(model_data.Season, prefix=\"Season\")\n",
    "model_data = pd.concat([model_data, ohe], axis=1)\n",
    "le = LabelEncoder()\n",
    "model_data[\"mBC_PATIENT\"] = le.fit_transform(model_data[\"mBC_PATIENT\"])\n",
    "model_data = model_data[[\"Blood\", 'Bone',\n",
    "       'Breast', 'Heart', 'Lungs','Other', 'Skin', 'Stomach',\n",
    "       'Vagina',  'Medication', \"Season_1\", \"Season_2\", \"Season_3\", \"Season_4\", \"mBC_PATIENT\"]]\n",
    "model_data.head()"
   ]
  },
  {
   "cell_type": "code",
   "execution_count": 17,
   "metadata": {},
   "outputs": [],
   "source": [
    "x_train, x_test, y_train, y_test = train_test_split(\n",
    "        model_data.iloc[:,:-1],\n",
    "        model_data.iloc[:,-1].values.ravel(),\n",
    "        random_state = RANDOM_STATE_PARAMETER,\n",
    "        test_size=TEST_SIZE,\n",
    "    )            "
   ]
  },
  {
   "cell_type": "markdown",
   "metadata": {},
   "source": [
    "# Random forest classifier "
   ]
  },
  {
   "cell_type": "code",
   "execution_count": 18,
   "metadata": {},
   "outputs": [
    {
     "name": "stdout",
     "output_type": "stream",
     "text": [
      "accuracy:0.6086765887998441, sensitivity:0.8248325181866755, specificity:0.2941633775864131\n"
     ]
    }
   ],
   "source": [
    "rf = RandomForestClassifier()      \n",
    "rf = rf.fit(x_train.values,y_train)\n",
    "y_prediction = rf.predict(x_test)\n",
    "(accuracy, sensitivity, specificity) = compute_metrics(y_test, y_prediction)\n",
    "print(f\"accuracy:{accuracy}, sensitivity:{sensitivity}, specificity:{specificity}\")"
   ]
  },
  {
   "cell_type": "code",
   "execution_count": 19,
   "metadata": {},
   "outputs": [
    {
     "data": {
      "image/png": "[encoded data removed]",
      "text/plain": [
       "<Figure size 432x288 with 2 Axes>"
      ]
     },
     "metadata": {
      "needs_background": "light"
     },
     "output_type": "display_data"
    }
   ],
   "source": [
    "plot_confusion_matrix_with_labels(x_test, y_test, rf, [\"non_mBC\", \"mBC\"], filename=\"random_forest.pdf\")"
   ]
  },
  {
   "cell_type": "markdown",
   "metadata": {},
   "source": [
    "# Logistic Regression"
   ]
  },
  {
   "cell_type": "code",
   "execution_count": 35,
   "metadata": {},
   "outputs": [
    {
     "name": "stdout",
     "output_type": "stream",
     "text": [
      "Best parameters: {'max_iter': 4000, 'C': 0.01}\n",
      "accuracy:0.5787396779772489, sensitivity:0.5138711931281081, specificity:0.6731252242554718\n",
      "CPU times: user 1.45 s, sys: 189 ms, total: 1.64 s\n",
      "Wall time: 3.73 s\n"
     ]
    }
   ],
   "source": [
    "%%time\n",
    "model = LogisticRegression(class_weight='balanced')\n",
    "tuning_parameters = {\n",
    "    'C':[1e-4,1e-3,1e-2,0.1,1],\n",
    "    \"max_iter\": [2000, 3000, 4000, 5000]\n",
    "}\n",
    "\n",
    "lr_search = RandomizedSearchCV(model, tuning_parameters, cv = 5, n_iter= 5, n_jobs=4,\n",
    "                              random_state = 20)\n",
    "lr_search.fit(x_train.values, y_train)\n",
    "print('Best parameters:', lr_search.best_params_)\n",
    "best_lr_model = lr_search.best_estimator_\n",
    "y_prediction = best_lr_model.predict(x_test)\n",
    "(accuracy, sensitivity, specificity) = compute_metrics(y_test, y_prediction)\n",
    "print(f\"accuracy:{accuracy}, sensitivity:{sensitivity}, specificity:{specificity}\")"
   ]
  },
  {
   "cell_type": "code",
   "execution_count": 32,
   "metadata": {},
   "outputs": [
    {
     "data": {
      "image/png": "[encoded data removed]",
      "text/plain": [
       "<Figure size 432x288 with 2 Axes>"
      ]
     },
     "metadata": {
      "needs_background": "light"
     },
     "output_type": "display_data"
    }
   ],
   "source": [
    "plot_confusion_matrix_with_labels(x_test, y_test, best_lr_model, [\"non_mBC\", \"mBC\"], filename=\"logistic_reg.pdf\")"
   ]
  },
  {
   "cell_type": "code",
   "execution_count": 22,
   "metadata": {},
   "outputs": [
    {
     "name": "stdout",
     "output_type": "stream",
     "text": [
      "accuracy:0.6086522300440893, sensitivity:0.8248325181866755, specificity:0.2941035761272575\n"
     ]
    },
    {
     "data": {
      "image/png": "[encoded data removed]",
      "text/plain": [
       "<Figure size 432x288 with 2 Axes>"
      ]
     },
     "metadata": {
      "needs_background": "light"
     },
     "output_type": "display_data"
    }
   ],
   "source": [
    "xgb = XGBClassifier(random_state = RANDOM_STATE_PARAMETER, n_jobs = -1)\n",
    "xgb.fit(x_train, y_train)\n",
    "y_prediction = xgb.predict(x_test)\n",
    "(accuracy, sensitivity, specificity) = compute_metrics(y_test, y_prediction)\n",
    "print(f\"accuracy:{accuracy}, sensitivity:{sensitivity}, specificity:{specificity}\")\n",
    "plot_confusion_matrix_with_labels(x_test, y_test, xgb, [\"non_mBC\", \"mBC\"], filename=\"xgb.pdf\")"
   ]
  },
  {
   "cell_type": "code",
   "execution_count": 23,
   "metadata": {},
   "outputs": [
    {
     "data": {
      "text/plain": [
       "1.4568014522531867"
      ]
     },
     "execution_count": 23,
     "metadata": {},
     "output_type": "execute_result"
    }
   ],
   "source": [
    "mbc_ratio=y_train[y_train == 1].shape[0]/y_train[y_train == 0].shape[0]\n",
    "mbc_ratio"
   ]
  },
  {
   "cell_type": "markdown",
   "metadata": {},
   "source": [
    "# Logistic Regression on oversampled data"
   ]
  },
  {
   "cell_type": "code",
   "execution_count": 24,
   "metadata": {},
   "outputs": [
    {
     "name": "stdout",
     "output_type": "stream",
     "text": [
      "X=(123157, 14), y=[(0, 50129), (1, 73028)]\n",
      "X_sampled=(146056, 14), y_sampled=[(0, 73028), (1, 73028)]\n"
     ]
    }
   ],
   "source": [
    "X_sampled, y_sampled = create_balanced_dataset('SMOTE', x_train, y_train)"
   ]
  },
  {
   "cell_type": "code",
   "execution_count": 25,
   "metadata": {},
   "outputs": [
    {
     "data": {
      "text/html": [
       "<div>\n",
       "<style scoped>\n",
       "    .dataframe tbody tr th:only-of-type {\n",
       "        vertical-align: middle;\n",
       "    }\n",
       "\n",
       "    .dataframe tbody tr th {\n",
       "        vertical-align: top;\n",
       "    }\n",
       "\n",
       "    .dataframe thead th {\n",
       "        text-align: right;\n",
       "    }\n",
       "</style>\n",
       "<table border=\"1\" class=\"dataframe\">\n",
       "  <thead>\n",
       "    <tr style=\"text-align: right;\">\n",
       "      <th></th>\n",
       "      <th>Blood</th>\n",
       "      <th>Bone</th>\n",
       "      <th>Breast</th>\n",
       "      <th>Heart</th>\n",
       "      <th>Lungs</th>\n",
       "      <th>Other</th>\n",
       "      <th>Skin</th>\n",
       "      <th>Stomach</th>\n",
       "      <th>Vagina</th>\n",
       "      <th>Medication</th>\n",
       "      <th>Season_1</th>\n",
       "      <th>Season_2</th>\n",
       "      <th>Season_3</th>\n",
       "      <th>Season_4</th>\n",
       "    </tr>\n",
       "  </thead>\n",
       "  <tbody>\n",
       "    <tr>\n",
       "      <th>0</th>\n",
       "      <td>0</td>\n",
       "      <td>0</td>\n",
       "      <td>0</td>\n",
       "      <td>0</td>\n",
       "      <td>0</td>\n",
       "      <td>1</td>\n",
       "      <td>0</td>\n",
       "      <td>0</td>\n",
       "      <td>0</td>\n",
       "      <td>0</td>\n",
       "      <td>0</td>\n",
       "      <td>0</td>\n",
       "      <td>0</td>\n",
       "      <td>1</td>\n",
       "    </tr>\n",
       "    <tr>\n",
       "      <th>1</th>\n",
       "      <td>0</td>\n",
       "      <td>0</td>\n",
       "      <td>0</td>\n",
       "      <td>0</td>\n",
       "      <td>0</td>\n",
       "      <td>1</td>\n",
       "      <td>0</td>\n",
       "      <td>0</td>\n",
       "      <td>0</td>\n",
       "      <td>0</td>\n",
       "      <td>1</td>\n",
       "      <td>0</td>\n",
       "      <td>0</td>\n",
       "      <td>0</td>\n",
       "    </tr>\n",
       "    <tr>\n",
       "      <th>2</th>\n",
       "      <td>0</td>\n",
       "      <td>0</td>\n",
       "      <td>0</td>\n",
       "      <td>0</td>\n",
       "      <td>0</td>\n",
       "      <td>1</td>\n",
       "      <td>0</td>\n",
       "      <td>0</td>\n",
       "      <td>0</td>\n",
       "      <td>0</td>\n",
       "      <td>1</td>\n",
       "      <td>0</td>\n",
       "      <td>0</td>\n",
       "      <td>0</td>\n",
       "    </tr>\n",
       "    <tr>\n",
       "      <th>3</th>\n",
       "      <td>0</td>\n",
       "      <td>0</td>\n",
       "      <td>0</td>\n",
       "      <td>0</td>\n",
       "      <td>0</td>\n",
       "      <td>1</td>\n",
       "      <td>0</td>\n",
       "      <td>0</td>\n",
       "      <td>0</td>\n",
       "      <td>0</td>\n",
       "      <td>0</td>\n",
       "      <td>1</td>\n",
       "      <td>0</td>\n",
       "      <td>0</td>\n",
       "    </tr>\n",
       "    <tr>\n",
       "      <th>4</th>\n",
       "      <td>0</td>\n",
       "      <td>0</td>\n",
       "      <td>0</td>\n",
       "      <td>0</td>\n",
       "      <td>0</td>\n",
       "      <td>1</td>\n",
       "      <td>0</td>\n",
       "      <td>0</td>\n",
       "      <td>0</td>\n",
       "      <td>0</td>\n",
       "      <td>0</td>\n",
       "      <td>0</td>\n",
       "      <td>0</td>\n",
       "      <td>1</td>\n",
       "    </tr>\n",
       "  </tbody>\n",
       "</table>\n",
       "</div>"
      ],
      "text/plain": [
       "   Blood  Bone  Breast  Heart  Lungs  Other  Skin  Stomach  Vagina  \\\n",
       "0      0     0       0      0      0      1     0        0       0   \n",
       "1      0     0       0      0      0      1     0        0       0   \n",
       "2      0     0       0      0      0      1     0        0       0   \n",
       "3      0     0       0      0      0      1     0        0       0   \n",
       "4      0     0       0      0      0      1     0        0       0   \n",
       "\n",
       "   Medication  Season_1  Season_2  Season_3  Season_4  \n",
       "0           0         0         0         0         1  \n",
       "1           0         1         0         0         0  \n",
       "2           0         1         0         0         0  \n",
       "3           0         0         1         0         0  \n",
       "4           0         0         0         0         1  "
      ]
     },
     "execution_count": 25,
     "metadata": {},
     "output_type": "execute_result"
    }
   ],
   "source": [
    "X_sampled.head()"
   ]
  },
  {
   "cell_type": "markdown",
   "metadata": {},
   "source": [
    "# Random Forest on oversampled data"
   ]
  },
  {
   "cell_type": "code",
   "execution_count": 26,
   "metadata": {},
   "outputs": [
    {
     "name": "stdout",
     "output_type": "stream",
     "text": [
      "accuracy:0.5786666017099846, sensitivity:0.5136245941391641, specificity:0.6733046286329386\n"
     ]
    }
   ],
   "source": [
    "oversampling_rf = RandomForestClassifier()      \n",
    "oversampling_rf = oversampling_rf.fit(X_sampled, y_sampled)\n",
    "y_prediction = oversampling_rf.predict(x_test)\n",
    "(accuracy, sensitivity, specificity) = compute_metrics(y_test, y_prediction)\n",
    "print(f\"accuracy:{accuracy}, sensitivity:{sensitivity}, specificity:{specificity}\")"
   ]
  },
  {
   "cell_type": "code",
   "execution_count": 27,
   "metadata": {},
   "outputs": [
    {
     "name": "stdout",
     "output_type": "stream",
     "text": [
      "accuracy:0.5786666017099846, sensitivity:0.5136245941391641, specificity:0.6733046286329386\n"
     ]
    }
   ],
   "source": [
    "oversampling_xgb = XGBClassifier(random_state = RANDOM_STATE_PARAMETER, n_jobs = -1)\n",
    "oversampling_xgb.fit(X_sampled, y_sampled)\n",
    "y_prediction = oversampling_xgb.predict(x_test)\n",
    "(accuracy, sensitivity, specificity) = compute_metrics(y_test, y_prediction)\n",
    "print(f\"accuracy:{accuracy}, sensitivity:{sensitivity}, specificity:{specificity}\")"
   ]
  },
  {
   "cell_type": "code",
   "execution_count": 38,
   "metadata": {},
   "outputs": [
    {
     "name": "stdout",
     "output_type": "stream",
     "text": [
      "Best parameters: {'max_iter': 5000, 'C': 5}\n",
      "accuracy:0.5785691666869657, sensitivity:0.5135834943076734, specificity:0.6731252242554718\n",
      "CPU times: user 5.82 s, sys: 619 ms, total: 6.44 s\n",
      "Wall time: 13 s\n"
     ]
    }
   ],
   "source": [
    "%%time\n",
    "model = LogisticRegression()\n",
    "#model = LogisticRegression(class_weight='balanced')\n",
    "tuning_parameters = {\n",
    "    'C':[2, 5, 10],\n",
    "    \"max_iter\": [2000, 3000, 4000, 5000]\n",
    "}\n",
    "\n",
    "lr_search = RandomizedSearchCV(model, tuning_parameters, cv = 5, n_iter= 5, n_jobs=4,\n",
    "                              random_state = 20)\n",
    "lr_search.fit(X_sampled, y_sampled)\n",
    "print('Best parameters:', lr_search.best_params_)\n",
    "oversampling_best_lr_model = lr_search.best_estimator_\n",
    "y_prediction = oversampling_best_lr_model.predict(x_test)\n",
    "(accuracy, sensitivity, specificity) = compute_metrics(y_test, y_prediction)\n",
    "print(f\"accuracy:{accuracy}, sensitivity:{sensitivity}, specificity:{specificity}\")"
   ]
  },
  {
   "cell_type": "code",
   "execution_count": 29,
   "metadata": {},
   "outputs": [
    {
     "name": "stdout",
     "output_type": "stream",
     "text": [
      "accuracy:0.5787396779772489, sensitivity:0.5138711931281081, specificity:0.6731252242554718\n"
     ]
    }
   ],
   "source": [
    "y_prediction = oversampling_best_lr_model.predict(x_test)\n",
    "(accuracy, sensitivity, specificity) = compute_metrics(y_test, y_prediction)\n",
    "print(f\"accuracy:{accuracy}, sensitivity:{sensitivity}, specificity:{specificity}\")"
   ]
  },
  {
   "cell_type": "code",
   "execution_count": 30,
   "metadata": {},
   "outputs": [
    {
     "name": "stdout",
     "output_type": "stream",
     "text": [
      "accuracy:0.5786666017099846, sensitivity:0.5136245941391641, specificity:0.6733046286329386\n"
     ]
    }
   ],
   "source": [
    "y_prediction = oversampling_rf.predict(x_test)\n",
    "(accuracy, sensitivity, specificity) = compute_metrics(y_test, y_prediction)\n",
    "print(f\"accuracy:{accuracy}, sensitivity:{sensitivity}, specificity:{specificity}\")"
   ]
  },
  {
   "cell_type": "code",
   "execution_count": null,
   "metadata": {},
   "outputs": [],
   "source": []
  }
 ],
 "metadata": {
  "kernelspec": {
   "display_name": "data-competition",
   "language": "python",
   "name": "data-competition"
  },
  "language_info": {
   "codemirror_mode": {
    "name": "ipython",
    "version": 3
   },
   "file_extension": ".py",
   "mimetype": "text/x-python",
   "name": "python",
   "nbconvert_exporter": "python",
   "pygments_lexer": "ipython3",
   "version": "3.7.3"
  }
 },
 "nbformat": 4,
 "nbformat_minor": 4
}
