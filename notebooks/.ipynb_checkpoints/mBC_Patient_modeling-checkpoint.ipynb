{
 "cells": [
  {
   "cell_type": "code",
   "execution_count": 103,
   "metadata": {},
   "outputs": [],
   "source": [
    "import numpy as np # linear algebra\n",
    "import pandas as pd # data processing, CSV file I/O (e.g. pd.read_csv)\n",
    "pd.set_option('large_repr', 'truncate')\n",
    "pd.set_option('display.float_format', lambda x: '%.3f' % x)\n",
    "import matplotlib.pyplot as plt\n",
    "plt.style.use('ggplot')\n",
    "import seaborn as sns\n",
    "\n",
    "\n",
    "from pathlib import Path\n",
    "\n",
    "from sklearn.model_selection import train_test_split, RandomizedSearchCV\n",
    "from sklearn.ensemble import RandomForestClassifier\n",
    "from sklearn.metrics import f1_score, roc_curve, roc_auc_score,confusion_matrix\n",
    "from sklearn.metrics import accuracy_score\n",
    "from sklearn.linear_model import LogisticRegression\n",
    "\n",
    "from typing import Tuple\n",
    "\n",
    "import warnings\n",
    "warnings.filterwarnings('ignore')"
   ]
  },
  {
   "cell_type": "code",
   "execution_count": 104,
   "metadata": {},
   "outputs": [],
   "source": [
    "# Plot settings\n",
    "sns.set_context('notebook') \n",
    "sns.set_style('ticks') \n",
    "colours = ['#1F77B4', '#FF7F0E', '#2CA02C', '#DB2728', '#9467BD', '#8C564B', '#E377C2','#7F7F7F', '#BCBD22', '#17BECF']\n",
    "sns.set_palette(colours)\n",
    "%matplotlib inline"
   ]
  },
  {
   "cell_type": "code",
   "execution_count": 105,
   "metadata": {},
   "outputs": [],
   "source": [
    "import sys\n",
    "sys.path.insert(0, '../src')\n",
    "from ds_toolbox import create_balanced_dataset, plot_confusion_matrix_with_labels, compute_metrics"
   ]
  },
  {
   "cell_type": "code",
   "execution_count": 106,
   "metadata": {},
   "outputs": [
    {
     "name": "stdout",
     "output_type": "stream",
     "text": [
      "The autoreload extension is already loaded. To reload it, use:\n",
      "  %reload_ext autoreload\n"
     ]
    }
   ],
   "source": [
    "%load_ext autoreload\n",
    "%autoreload 2"
   ]
  },
  {
   "cell_type": "code",
   "execution_count": 33,
   "metadata": {},
   "outputs": [],
   "source": [
    "DATA_PATH = Path(\"../data/\")\n",
    "DOCUMENTATION_PATH = Path(\"../documentation\")\n",
    "RANDOM_STATE_PARAMETER = 42\n",
    "TEST_SIZE = .25"
   ]
  },
  {
   "cell_type": "code",
   "execution_count": 34,
   "metadata": {},
   "outputs": [
    {
     "data": {
      "text/html": [
       "<div>\n",
       "<style scoped>\n",
       "    .dataframe tbody tr th:only-of-type {\n",
       "        vertical-align: middle;\n",
       "    }\n",
       "\n",
       "    .dataframe tbody tr th {\n",
       "        vertical-align: top;\n",
       "    }\n",
       "\n",
       "    .dataframe thead th {\n",
       "        text-align: right;\n",
       "    }\n",
       "</style>\n",
       "<table border=\"1\" class=\"dataframe\">\n",
       "  <thead>\n",
       "    <tr style=\"text-align: right;\">\n",
       "      <th></th>\n",
       "      <th>PATIENT_ID</th>\n",
       "      <th>Service_date</th>\n",
       "      <th>Season</th>\n",
       "      <th>PRC_STD_CD</th>\n",
       "      <th>Blood</th>\n",
       "      <th>Bone</th>\n",
       "      <th>Breast</th>\n",
       "      <th>Heart</th>\n",
       "      <th>Lungs</th>\n",
       "      <th>Medication</th>\n",
       "      <th>Medication</th>\n",
       "      <th>Other</th>\n",
       "      <th>Skin</th>\n",
       "      <th>Stomach</th>\n",
       "      <th>Vagina</th>\n",
       "      <th>mBC_PATIENT</th>\n",
       "    </tr>\n",
       "  </thead>\n",
       "  <tbody>\n",
       "    <tr>\n",
       "      <th>0</th>\n",
       "      <td>134290358</td>\n",
       "      <td>10/15/2015</td>\n",
       "      <td>4</td>\n",
       "      <td>99214</td>\n",
       "      <td>0</td>\n",
       "      <td>0</td>\n",
       "      <td>0</td>\n",
       "      <td>0</td>\n",
       "      <td>0</td>\n",
       "      <td>0</td>\n",
       "      <td>0</td>\n",
       "      <td>1</td>\n",
       "      <td>0</td>\n",
       "      <td>0</td>\n",
       "      <td>0</td>\n",
       "      <td>True</td>\n",
       "    </tr>\n",
       "    <tr>\n",
       "      <th>1</th>\n",
       "      <td>134290358</td>\n",
       "      <td>10/15/2015</td>\n",
       "      <td>4</td>\n",
       "      <td>99214</td>\n",
       "      <td>0</td>\n",
       "      <td>0</td>\n",
       "      <td>0</td>\n",
       "      <td>0</td>\n",
       "      <td>0</td>\n",
       "      <td>0</td>\n",
       "      <td>0</td>\n",
       "      <td>1</td>\n",
       "      <td>0</td>\n",
       "      <td>0</td>\n",
       "      <td>0</td>\n",
       "      <td>True</td>\n",
       "    </tr>\n",
       "    <tr>\n",
       "      <th>2</th>\n",
       "      <td>134290358</td>\n",
       "      <td>10/15/2015</td>\n",
       "      <td>4</td>\n",
       "      <td>99214</td>\n",
       "      <td>0</td>\n",
       "      <td>0</td>\n",
       "      <td>0</td>\n",
       "      <td>0</td>\n",
       "      <td>0</td>\n",
       "      <td>0</td>\n",
       "      <td>0</td>\n",
       "      <td>1</td>\n",
       "      <td>0</td>\n",
       "      <td>0</td>\n",
       "      <td>0</td>\n",
       "      <td>True</td>\n",
       "    </tr>\n",
       "    <tr>\n",
       "      <th>3</th>\n",
       "      <td>1057559593</td>\n",
       "      <td>11/25/2015</td>\n",
       "      <td>4</td>\n",
       "      <td>85025</td>\n",
       "      <td>0</td>\n",
       "      <td>0</td>\n",
       "      <td>0</td>\n",
       "      <td>0</td>\n",
       "      <td>0</td>\n",
       "      <td>0</td>\n",
       "      <td>0</td>\n",
       "      <td>1</td>\n",
       "      <td>0</td>\n",
       "      <td>0</td>\n",
       "      <td>0</td>\n",
       "      <td>True</td>\n",
       "    </tr>\n",
       "    <tr>\n",
       "      <th>4</th>\n",
       "      <td>1057559593</td>\n",
       "      <td>11/25/2015</td>\n",
       "      <td>4</td>\n",
       "      <td>36415</td>\n",
       "      <td>0</td>\n",
       "      <td>0</td>\n",
       "      <td>0</td>\n",
       "      <td>0</td>\n",
       "      <td>0</td>\n",
       "      <td>0</td>\n",
       "      <td>0</td>\n",
       "      <td>1</td>\n",
       "      <td>0</td>\n",
       "      <td>0</td>\n",
       "      <td>0</td>\n",
       "      <td>True</td>\n",
       "    </tr>\n",
       "  </tbody>\n",
       "</table>\n",
       "</div>"
      ],
      "text/plain": [
       "   PATIENT_ID Service_date  Season PRC_STD_CD  Blood  Bone  Breast  Heart  \\\n",
       "0   134290358   10/15/2015       4      99214      0     0       0      0   \n",
       "1   134290358   10/15/2015       4      99214      0     0       0      0   \n",
       "2   134290358   10/15/2015       4      99214      0     0       0      0   \n",
       "3  1057559593   11/25/2015       4      85025      0     0       0      0   \n",
       "4  1057559593   11/25/2015       4      36415      0     0       0      0   \n",
       "\n",
       "   Lungs  Medication  Medication   Other  Skin  Stomach  Vagina  mBC_PATIENT  \n",
       "0      0           0            0      1     0        0       0         True  \n",
       "1      0           0            0      1     0        0       0         True  \n",
       "2      0           0            0      1     0        0       0         True  \n",
       "3      0           0            0      1     0        0       0         True  \n",
       "4      0           0            0      1     0        0       0         True  "
      ]
     },
     "execution_count": 34,
     "metadata": {},
     "output_type": "execute_result"
    }
   ],
   "source": [
    "data = pd.read_csv(DATA_PATH / \"apld_patients.csv\")\n",
    "data.reset_index(inplace=True)\n",
    "data.drop([\"BC_PATIENT\", \"SN_PATIENT\", \"DIAGNOSIS_CODE\", \"index\"], axis=1, inplace=True)\n",
    "data.rename(columns={\"SERVICE_DATE_y\": \"Service_date\", \"SEASON\": \"Season\"}, inplace=True)\n",
    "cols = ['PATIENT_ID',\n",
    " 'Service_date',\n",
    " 'Season',\n",
    " 'PRC_STD_CD',\n",
    " 'Blood',\n",
    " 'Bone',\n",
    " 'Breast',\n",
    " 'Heart',\n",
    " 'Lungs',\n",
    " 'Medication',\n",
    " 'Medication ',\n",
    " 'Other',\n",
    " 'Skin',\n",
    " 'Stomach',\n",
    " 'Vagina',\n",
    "  'mBC_PATIENT']\n",
    "data = data[cols]\n",
    "data.head()"
   ]
  },
  {
   "cell_type": "code",
   "execution_count": 35,
   "metadata": {},
   "outputs": [
    {
     "data": {
      "text/plain": [
       "Index(['PATIENT_ID', 'Service_date', 'Season', 'PRC_STD_CD', 'Blood', 'Bone',\n",
       "       'Breast', 'Heart', 'Lungs', 'Medication', 'Medication ', 'Other',\n",
       "       'Skin', 'Stomach', 'Vagina', 'mBC_PATIENT'],\n",
       "      dtype='object')"
      ]
     },
     "execution_count": 35,
     "metadata": {},
     "output_type": "execute_result"
    }
   ],
   "source": [
    "data.columns"
   ]
  },
  {
   "cell_type": "code",
   "execution_count": 36,
   "metadata": {},
   "outputs": [],
   "source": [
    "FEATURES = ['Season', 'Medication', 'Blood', 'Bone',\n",
    "       'Breast', 'Heart', 'Lungs', 'Medication', \n",
    "       'Skin', 'Stomach', 'Vagina', 'Other', 'mBC_PATIENT']\n",
    "model_data = data[FEATURES]"
   ]
  },
  {
   "cell_type": "code",
   "execution_count": 37,
   "metadata": {},
   "outputs": [],
   "source": [
    "x_train, x_test, y_train, y_test = train_test_split(\n",
    "        model_data.iloc[:,:-1],\n",
    "         model_data.iloc[:,-1].values.ravel(),\n",
    "        random_state = RANDOM_STATE_PARAMETER,\n",
    "        test_size=TEST_SIZE,\n",
    "    )            "
   ]
  },
  {
   "cell_type": "markdown",
   "metadata": {},
   "source": [
    "# Random forest classifier "
   ]
  },
  {
   "cell_type": "code",
   "execution_count": 38,
   "metadata": {},
   "outputs": [],
   "source": [
    "rf = RandomForestClassifier()      \n",
    "rf = rf.fit(x_train,y_train)"
   ]
  },
  {
   "cell_type": "code",
   "execution_count": 39,
   "metadata": {},
   "outputs": [
    {
     "name": "stdout",
     "output_type": "stream",
     "text": [
      "Accuracy is:  0.6086522300440893\n",
      "F1 Score is:  0.7141484591843997\n"
     ]
    },
    {
     "data": {
      "text/plain": [
       "<AxesSubplot:>"
      ]
     },
     "execution_count": 39,
     "metadata": {},
     "output_type": "execute_result"
    },
    {
     "data": {
      "image/png": "[encoded data removed]",
      "text/plain": [
       "<Figure size 432x288 with 2 Axes>"
      ]
     },
     "metadata": {
      "needs_background": "light"
     },
     "output_type": "display_data"
    }
   ],
   "source": [
    "y_prediction = rf.predict(x_test)\n",
    "ac = accuracy_score(y_test, y_prediction)\n",
    "print('Accuracy is: ',ac)\n",
    "f1 = f1_score(y_test, y_prediction)\n",
    "print('F1 Score is: ', f1)\n",
    "cm = confusion_matrix(y_test, y_prediction)\n",
    "sns.heatmap(cm, annot=True, fmt=\"d\")"
   ]
  },
  {
   "cell_type": "code",
   "execution_count": 40,
   "metadata": {},
   "outputs": [
    {
     "name": "stdout",
     "output_type": "stream",
     "text": [
      "Accuracy is:  0.6086522300440893\n",
      "F1 Score is:  0.7141484591843997\n",
      "tn:4918, fn:4262, tp:20069, fp:11804\n"
     ]
    }
   ],
   "source": [
    "ac = accuracy_score(y_test, y_prediction)\n",
    "print('Accuracy is: ',ac)\n",
    "f1 = f1_score(y_test, y_prediction)\n",
    "print('F1 Score is: ', f1)\n",
    "tn, fp, fn, tp = confusion_matrix(y_test, y_prediction).ravel()\n",
    "print(f\"tn:{tn}, fn:{fn}, tp:{tp}, fp:{fp}\")"
   ]
  },
  {
   "cell_type": "code",
   "execution_count": 41,
   "metadata": {},
   "outputs": [],
   "source": [
    "def compute_metrics(tn: float, tp: float, fn:float, fp: float) -> Tuple[float, float, float]:\n",
    "    accuracy  = (tp + tn) / (tp + tn + fp +fn)\n",
    "    sensitivity  = tp / (tp + fn)\n",
    "    specificity = tn / (tn + fp)\n",
    "    return (accuracy, sensitivity, specificity)"
   ]
  },
  {
   "cell_type": "code",
   "execution_count": 42,
   "metadata": {},
   "outputs": [
    {
     "name": "stdout",
     "output_type": "stream",
     "text": [
      "accuracy:0.6086522300440893, sensitivity:0.8248325181866755, specificity:0.2941035761272575\n"
     ]
    }
   ],
   "source": [
    "(accuracy, sensitivity, specificity) = compute_metrics(tn, tp, fn, fp)\n",
    "print(f\"accuracy:{accuracy}, sensitivity:{sensitivity}, specificity:{specificity}\")"
   ]
  },
  {
   "cell_type": "markdown",
   "metadata": {},
   "source": [
    "# Logistic Regression"
   ]
  },
  {
   "cell_type": "code",
   "execution_count": 123,
   "metadata": {},
   "outputs": [
    {
     "name": "stdout",
     "output_type": "stream",
     "text": [
      "Best parameters: {'penalty': 'l2', 'C': 0.1}\n",
      "accuracy:0.502545489976372, sensitivity:0.507377419752579, specificity:0.49551489056332976\n",
      "CPU times: user 1.02 s, sys: 158 ms, total: 1.18 s\n",
      "Wall time: 1.48 s\n"
     ]
    }
   ],
   "source": [
    "%%time\n",
    "model = LogisticRegression(class_weight='balanced')\n",
    "tuning_parameters = {\n",
    "    'C':[1e-4,1e-3,1e-2,0.1,1],\n",
    "    'penalty':['l1','l2']\n",
    "}\n",
    "\n",
    "lr_search = RandomizedSearchCV(model, tuning_parameters, cv = 5, n_iter= 5, n_jobs=4,\n",
    "                              random_state = 20)\n",
    "lr_search.fit(x_train, y_train)\n",
    "print('Best parameters:', lr_search.best_params_)\n",
    "best_lr_model = lr_search.best_estimator_\n",
    "y_prediction = best_lr_model.predict(x_test)\n",
    "(accuracy, sensitivity, specificity) = compute_metrics(y_test, y_prediction)\n",
    "print(f\"accuracy:{accuracy}, sensitivity:{sensitivity}, specificity:{specificity}\")"
   ]
  },
  {
   "cell_type": "code",
   "execution_count": 124,
   "metadata": {},
   "outputs": [
    {
     "data": {
      "image/png": "[encoded data removed]",
      "text/plain": [
       "<Figure size 432x288 with 2 Axes>"
      ]
     },
     "metadata": {
      "needs_background": "light"
     },
     "output_type": "display_data"
    }
   ],
   "source": [
    "plot_confusion_matrix_with_labels(x_test, y_test, best_lr_model, [\"non_mBC\", \"mBC\"], filename=\"logistic_reg.pdf\")"
   ]
  },
  {
   "cell_type": "markdown",
   "metadata": {},
   "source": [
    "# Trying Oversampling"
   ]
  },
  {
   "cell_type": "code",
   "execution_count": 110,
   "metadata": {},
   "outputs": [
    {
     "name": "stdout",
     "output_type": "stream",
     "text": [
      "X=(123157, 12), y=[(False, 50129), (True, 73028)]\n",
      "X_sampled=(139579, 12), y_sampled=[(False, 66551), (True, 73028)]\n"
     ]
    }
   ],
   "source": [
    "X_sampled, y_sampled = create_balanced_dataset('ADASYN', x_train.values, y_train)"
   ]
  },
  {
   "cell_type": "code",
   "execution_count": 122,
   "metadata": {},
   "outputs": [
    {
     "name": "stdout",
     "output_type": "stream",
     "text": [
      "Best parameters: {'penalty': 'l2', 'C': 0.0001}\n",
      "accuracy:0.502448054953353, sensitivity:0.705232008548765, specificity:0.20739146035163258\n",
      "CPU times: user 553 ms, sys: 83.4 ms, total: 636 ms\n",
      "Wall time: 1.37 s\n"
     ]
    }
   ],
   "source": [
    "%%time\n",
    "model = LogisticRegression()\n",
    "#model = LogisticRegression(class_weight='balanced')\n",
    "tuning_parameters = {\n",
    "    'C':[1e-4,1e-3,1e-2,0.1,1],\n",
    "    'penalty':['l1','l2']\n",
    "}\n",
    "\n",
    "lr_search = RandomizedSearchCV(model, tuning_parameters, cv = 5, n_iter= 5, n_jobs=4,\n",
    "                              random_state = 20)\n",
    "lr_search.fit(X_sampled, y_sampled)\n",
    "print('Best parameters:', lr_search.best_params_)\n",
    "oversampling_best_lr_model = lr_search.best_estimator_\n",
    "y_prediction = oversampling_best_lr_model.predict(x_test)\n",
    "(accuracy, sensitivity, specificity) = compute_metrics(y_test, y_prediction)\n",
    "print(f\"accuracy:{accuracy}, sensitivity:{sensitivity}, specificity:{specificity}\")"
   ]
  },
  {
   "cell_type": "code",
   "execution_count": null,
   "metadata": {},
   "outputs": [],
   "source": []
  }
 ],
 "metadata": {
  "kernelspec": {
   "display_name": "data-competition",
   "language": "python",
   "name": "data-competition"
  },
  "language_info": {
   "codemirror_mode": {
    "name": "ipython",
    "version": 3
   },
   "file_extension": ".py",
   "mimetype": "text/x-python",
   "name": "python",
   "nbconvert_exporter": "python",
   "pygments_lexer": "ipython3",
   "version": "3.7.3"
  }
 },
 "nbformat": 4,
 "nbformat_minor": 4
}
